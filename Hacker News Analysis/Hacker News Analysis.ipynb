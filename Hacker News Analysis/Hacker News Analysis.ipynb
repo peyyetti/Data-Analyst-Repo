{
 "cells": [
  {
   "cell_type": "code",
   "execution_count": 340,
   "id": "687efc09-e208-4aae-828e-948682bea36e",
   "metadata": {},
   "outputs": [],
   "source": [
    "import numpy as np\n",
    "import pandas as pd\n",
    "import matplotlib.pyplot as plt\n",
    "%matplotlib inline\n",
    "import seaborn as sns"
   ]
  },
  {
   "cell_type": "markdown",
   "id": "6655be65-849a-4b55-839e-ad59a368aa31",
   "metadata": {},
   "source": [
    "## Basic EDA and data cleaning to \n",
    "\n",
    "- Remove duplicates\n",
    "- Remove/fill NaN values\n",
    "- Correct the formatting and dtypes"
   ]
  },
  {
   "cell_type": "code",
   "execution_count": 342,
   "id": "fbf3023d-78a5-4bd1-9255-c314ec68e7cf",
   "metadata": {},
   "outputs": [
    {
     "data": {
      "text/html": [
       "<div>\n",
       "<style scoped>\n",
       "    .dataframe tbody tr th:only-of-type {\n",
       "        vertical-align: middle;\n",
       "    }\n",
       "\n",
       "    .dataframe tbody tr th {\n",
       "        vertical-align: top;\n",
       "    }\n",
       "\n",
       "    .dataframe thead th {\n",
       "        text-align: right;\n",
       "    }\n",
       "</style>\n",
       "<table border=\"1\" class=\"dataframe\">\n",
       "  <thead>\n",
       "    <tr style=\"text-align: right;\">\n",
       "      <th></th>\n",
       "      <th>id</th>\n",
       "      <th>title</th>\n",
       "      <th>url</th>\n",
       "      <th>num_points</th>\n",
       "      <th>num_comments</th>\n",
       "      <th>author</th>\n",
       "      <th>created_at</th>\n",
       "    </tr>\n",
       "  </thead>\n",
       "  <tbody>\n",
       "    <tr>\n",
       "      <th>0</th>\n",
       "      <td>12224879</td>\n",
       "      <td>Interactive Dynamic Video</td>\n",
       "      <td>http://www.interactivedynamicvideo.com/</td>\n",
       "      <td>386</td>\n",
       "      <td>52</td>\n",
       "      <td>ne0phyte</td>\n",
       "      <td>8/4/2016 11:52</td>\n",
       "    </tr>\n",
       "    <tr>\n",
       "      <th>1</th>\n",
       "      <td>10975351</td>\n",
       "      <td>How to Use Open Source and Shut the Fuck Up at...</td>\n",
       "      <td>http://hueniverse.com/2016/01/26/how-to-use-op...</td>\n",
       "      <td>39</td>\n",
       "      <td>10</td>\n",
       "      <td>josep2</td>\n",
       "      <td>1/26/2016 19:30</td>\n",
       "    </tr>\n",
       "    <tr>\n",
       "      <th>2</th>\n",
       "      <td>11964716</td>\n",
       "      <td>Florida DJs May Face Felony for April Fools' W...</td>\n",
       "      <td>http://www.thewire.com/entertainment/2013/04/f...</td>\n",
       "      <td>2</td>\n",
       "      <td>1</td>\n",
       "      <td>vezycash</td>\n",
       "      <td>6/23/2016 22:20</td>\n",
       "    </tr>\n",
       "    <tr>\n",
       "      <th>3</th>\n",
       "      <td>11919867</td>\n",
       "      <td>Technology ventures: From Idea to Enterprise</td>\n",
       "      <td>https://www.amazon.com/Technology-Ventures-Ent...</td>\n",
       "      <td>3</td>\n",
       "      <td>1</td>\n",
       "      <td>hswarna</td>\n",
       "      <td>6/17/2016 0:01</td>\n",
       "    </tr>\n",
       "  </tbody>\n",
       "</table>\n",
       "</div>"
      ],
      "text/plain": [
       "         id                                              title  \\\n",
       "0  12224879                          Interactive Dynamic Video   \n",
       "1  10975351  How to Use Open Source and Shut the Fuck Up at...   \n",
       "2  11964716  Florida DJs May Face Felony for April Fools' W...   \n",
       "3  11919867       Technology ventures: From Idea to Enterprise   \n",
       "\n",
       "                                                 url  num_points  \\\n",
       "0            http://www.interactivedynamicvideo.com/         386   \n",
       "1  http://hueniverse.com/2016/01/26/how-to-use-op...          39   \n",
       "2  http://www.thewire.com/entertainment/2013/04/f...           2   \n",
       "3  https://www.amazon.com/Technology-Ventures-Ent...           3   \n",
       "\n",
       "   num_comments    author       created_at  \n",
       "0            52  ne0phyte   8/4/2016 11:52  \n",
       "1            10    josep2  1/26/2016 19:30  \n",
       "2             1  vezycash  6/23/2016 22:20  \n",
       "3             1   hswarna   6/17/2016 0:01  "
      ]
     },
     "execution_count": 342,
     "metadata": {},
     "output_type": "execute_result"
    }
   ],
   "source": [
    "hn = pd.read_csv(\"hacker_news.csv\")\n",
    "hn.head(4)"
   ]
  },
  {
   "cell_type": "code",
   "execution_count": 344,
   "id": "e9a2b67e-da0a-4fa9-8031-fca2cc8a0242",
   "metadata": {},
   "outputs": [
    {
     "name": "stdout",
     "output_type": "stream",
     "text": [
      "<class 'pandas.core.frame.DataFrame'>\n",
      "RangeIndex: 20100 entries, 0 to 20099\n",
      "Data columns (total 7 columns):\n",
      " #   Column        Non-Null Count  Dtype \n",
      "---  ------        --------------  ----- \n",
      " 0   id            20100 non-null  int64 \n",
      " 1   title         20100 non-null  object\n",
      " 2   url           17660 non-null  object\n",
      " 3   num_points    20100 non-null  int64 \n",
      " 4   num_comments  20100 non-null  int64 \n",
      " 5   author        20100 non-null  object\n",
      " 6   created_at    20100 non-null  object\n",
      "dtypes: int64(3), object(4)\n",
      "memory usage: 1.1+ MB\n"
     ]
    }
   ],
   "source": [
    "hn.info()"
   ]
  },
  {
   "cell_type": "code",
   "execution_count": 346,
   "id": "95749e54-5562-4a51-a8ff-f0068c2c0c53",
   "metadata": {},
   "outputs": [
    {
     "data": {
      "text/html": [
       "<div>\n",
       "<style scoped>\n",
       "    .dataframe tbody tr th:only-of-type {\n",
       "        vertical-align: middle;\n",
       "    }\n",
       "\n",
       "    .dataframe tbody tr th {\n",
       "        vertical-align: top;\n",
       "    }\n",
       "\n",
       "    .dataframe thead th {\n",
       "        text-align: right;\n",
       "    }\n",
       "</style>\n",
       "<table border=\"1\" class=\"dataframe\">\n",
       "  <thead>\n",
       "    <tr style=\"text-align: right;\">\n",
       "      <th></th>\n",
       "      <th>id</th>\n",
       "      <th>num_points</th>\n",
       "      <th>num_comments</th>\n",
       "    </tr>\n",
       "  </thead>\n",
       "  <tbody>\n",
       "    <tr>\n",
       "      <th>count</th>\n",
       "      <td>2.010000e+04</td>\n",
       "      <td>20100.000000</td>\n",
       "      <td>20100.000000</td>\n",
       "    </tr>\n",
       "    <tr>\n",
       "      <th>mean</th>\n",
       "      <td>1.131753e+07</td>\n",
       "      <td>50.296070</td>\n",
       "      <td>24.802289</td>\n",
       "    </tr>\n",
       "    <tr>\n",
       "      <th>std</th>\n",
       "      <td>6.964399e+05</td>\n",
       "      <td>107.107687</td>\n",
       "      <td>56.107340</td>\n",
       "    </tr>\n",
       "    <tr>\n",
       "      <th>min</th>\n",
       "      <td>1.017691e+07</td>\n",
       "      <td>1.000000</td>\n",
       "      <td>1.000000</td>\n",
       "    </tr>\n",
       "    <tr>\n",
       "      <th>25%</th>\n",
       "      <td>1.070176e+07</td>\n",
       "      <td>3.000000</td>\n",
       "      <td>1.000000</td>\n",
       "    </tr>\n",
       "    <tr>\n",
       "      <th>50%</th>\n",
       "      <td>1.128445e+07</td>\n",
       "      <td>9.000000</td>\n",
       "      <td>3.000000</td>\n",
       "    </tr>\n",
       "    <tr>\n",
       "      <th>75%</th>\n",
       "      <td>1.192607e+07</td>\n",
       "      <td>54.000000</td>\n",
       "      <td>21.000000</td>\n",
       "    </tr>\n",
       "    <tr>\n",
       "      <th>max</th>\n",
       "      <td>1.257898e+07</td>\n",
       "      <td>2553.000000</td>\n",
       "      <td>1733.000000</td>\n",
       "    </tr>\n",
       "  </tbody>\n",
       "</table>\n",
       "</div>"
      ],
      "text/plain": [
       "                 id    num_points  num_comments\n",
       "count  2.010000e+04  20100.000000  20100.000000\n",
       "mean   1.131753e+07     50.296070     24.802289\n",
       "std    6.964399e+05    107.107687     56.107340\n",
       "min    1.017691e+07      1.000000      1.000000\n",
       "25%    1.070176e+07      3.000000      1.000000\n",
       "50%    1.128445e+07      9.000000      3.000000\n",
       "75%    1.192607e+07     54.000000     21.000000\n",
       "max    1.257898e+07   2553.000000   1733.000000"
      ]
     },
     "execution_count": 346,
     "metadata": {},
     "output_type": "execute_result"
    }
   ],
   "source": [
    "hn.describe()"
   ]
  },
  {
   "cell_type": "code",
   "execution_count": 348,
   "id": "511276de-0d5c-487c-b76f-388abf60b9c5",
   "metadata": {},
   "outputs": [
    {
     "data": {
      "text/html": [
       "<div>\n",
       "<style scoped>\n",
       "    .dataframe tbody tr th:only-of-type {\n",
       "        vertical-align: middle;\n",
       "    }\n",
       "\n",
       "    .dataframe tbody tr th {\n",
       "        vertical-align: top;\n",
       "    }\n",
       "\n",
       "    .dataframe thead th {\n",
       "        text-align: right;\n",
       "    }\n",
       "</style>\n",
       "<table border=\"1\" class=\"dataframe\">\n",
       "  <thead>\n",
       "    <tr style=\"text-align: right;\">\n",
       "      <th></th>\n",
       "      <th>id</th>\n",
       "      <th>title</th>\n",
       "      <th>url</th>\n",
       "      <th>num_points</th>\n",
       "      <th>num_comments</th>\n",
       "      <th>author</th>\n",
       "      <th>created_at</th>\n",
       "    </tr>\n",
       "  </thead>\n",
       "  <tbody>\n",
       "  </tbody>\n",
       "</table>\n",
       "</div>"
      ],
      "text/plain": [
       "Empty DataFrame\n",
       "Columns: [id, title, url, num_points, num_comments, author, created_at]\n",
       "Index: []"
      ]
     },
     "execution_count": 348,
     "metadata": {},
     "output_type": "execute_result"
    }
   ],
   "source": [
    "hn[hn.duplicated()]"
   ]
  },
  {
   "cell_type": "markdown",
   "id": "c3fe2cfb-80d8-4c56-9066-b1a31e304b6a",
   "metadata": {},
   "source": [
    "Hence no duplicate values"
   ]
  },
  {
   "cell_type": "code",
   "execution_count": 351,
   "id": "688e2ace-5a41-477c-a0b9-22d4bd85093e",
   "metadata": {
    "scrolled": true
   },
   "outputs": [
    {
     "data": {
      "text/html": [
       "<div>\n",
       "<style scoped>\n",
       "    .dataframe tbody tr th:only-of-type {\n",
       "        vertical-align: middle;\n",
       "    }\n",
       "\n",
       "    .dataframe tbody tr th {\n",
       "        vertical-align: top;\n",
       "    }\n",
       "\n",
       "    .dataframe thead th {\n",
       "        text-align: right;\n",
       "    }\n",
       "</style>\n",
       "<table border=\"1\" class=\"dataframe\">\n",
       "  <thead>\n",
       "    <tr style=\"text-align: right;\">\n",
       "      <th></th>\n",
       "      <th>miss%</th>\n",
       "      <th>miss_vals</th>\n",
       "    </tr>\n",
       "  </thead>\n",
       "  <tbody>\n",
       "    <tr>\n",
       "      <th>id</th>\n",
       "      <td>0.000000</td>\n",
       "      <td>0</td>\n",
       "    </tr>\n",
       "    <tr>\n",
       "      <th>title</th>\n",
       "      <td>0.000000</td>\n",
       "      <td>0</td>\n",
       "    </tr>\n",
       "    <tr>\n",
       "      <th>url</th>\n",
       "      <td>12.139303</td>\n",
       "      <td>2440</td>\n",
       "    </tr>\n",
       "    <tr>\n",
       "      <th>num_points</th>\n",
       "      <td>0.000000</td>\n",
       "      <td>0</td>\n",
       "    </tr>\n",
       "    <tr>\n",
       "      <th>num_comments</th>\n",
       "      <td>0.000000</td>\n",
       "      <td>0</td>\n",
       "    </tr>\n",
       "    <tr>\n",
       "      <th>author</th>\n",
       "      <td>0.000000</td>\n",
       "      <td>0</td>\n",
       "    </tr>\n",
       "    <tr>\n",
       "      <th>created_at</th>\n",
       "      <td>0.000000</td>\n",
       "      <td>0</td>\n",
       "    </tr>\n",
       "  </tbody>\n",
       "</table>\n",
       "</div>"
      ],
      "text/plain": [
       "                  miss%  miss_vals\n",
       "id             0.000000          0\n",
       "title          0.000000          0\n",
       "url           12.139303       2440\n",
       "num_points     0.000000          0\n",
       "num_comments   0.000000          0\n",
       "author         0.000000          0\n",
       "created_at     0.000000          0"
      ]
     },
     "execution_count": 351,
     "metadata": {},
     "output_type": "execute_result"
    }
   ],
   "source": [
    "pd.concat([(hn.isnull().sum()/len(hn))*100,hn.isnull().sum()], axis=1, keys=['miss%','miss_vals'])"
   ]
  },
  {
   "cell_type": "code",
   "execution_count": 353,
   "id": "6fac3bbf-c46c-42bc-bdec-f78b0661820f",
   "metadata": {},
   "outputs": [],
   "source": [
    "hn = hn.dropna()"
   ]
  },
  {
   "cell_type": "code",
   "execution_count": 355,
   "id": "5267203c-16c0-4e98-b6b0-f21afb29a9de",
   "metadata": {
    "scrolled": true
   },
   "outputs": [
    {
     "data": {
      "text/plain": [
       "id              0\n",
       "title           0\n",
       "url             0\n",
       "num_points      0\n",
       "num_comments    0\n",
       "author          0\n",
       "created_at      0\n",
       "dtype: int64"
      ]
     },
     "execution_count": 355,
     "metadata": {},
     "output_type": "execute_result"
    }
   ],
   "source": [
    "hn.isnull().sum()"
   ]
  },
  {
   "cell_type": "code",
   "execution_count": 369,
   "id": "3a8efeaa-7dfb-4679-8d8b-e36952747983",
   "metadata": {},
   "outputs": [
    {
     "name": "stdout",
     "output_type": "stream",
     "text": [
      "<class 'pandas.core.frame.DataFrame'>\n",
      "Index: 17660 entries, 0 to 20099\n",
      "Data columns (total 8 columns):\n",
      " #   Column         Non-Null Count  Dtype         \n",
      "---  ------         --------------  -----         \n",
      " 0   id             17660 non-null  int64         \n",
      " 1   title          17660 non-null  object        \n",
      " 2   url            17660 non-null  object        \n",
      " 3   num_points     17660 non-null  int64         \n",
      " 4   num_comments   17660 non-null  int64         \n",
      " 5   author         17660 non-null  object        \n",
      " 6   created_at     17660 non-null  datetime64[ns]\n",
      " 7   month_created  17660 non-null  int32         \n",
      "dtypes: datetime64[ns](1), int32(1), int64(3), object(3)\n",
      "memory usage: 1.6+ MB\n"
     ]
    }
   ],
   "source": [
    "hn.info()"
   ]
  },
  {
   "cell_type": "code",
   "execution_count": 357,
   "id": "91965c6e-5df6-4c10-817b-78ab8b379087",
   "metadata": {},
   "outputs": [],
   "source": [
    "hn['created_at'] = pd.to_datetime(hn['created_at'])"
   ]
  },
  {
   "cell_type": "markdown",
   "id": "5abe04c9-8318-4a32-a677-1d1550b40d74",
   "metadata": {},
   "source": [
    "## Analyzing the most active users by counting how many times they have authored a post!"
   ]
  },
  {
   "cell_type": "code",
   "execution_count": 359,
   "id": "96751bf9-7c9b-4a92-96c8-71bd67b71eed",
   "metadata": {},
   "outputs": [
    {
     "data": {
      "image/png": "[encoded data removed]",
      "text/plain": [
       "<Figure size 640x480 with 1 Axes>"
      ]
     },
     "metadata": {},
     "output_type": "display_data"
    }
   ],
   "source": [
    "ax = sns.barplot(\n",
    "    y=hn['author'].value_counts().head(5), \n",
    "    x=hn['author'].value_counts().head(5).index,\n",
    "    palette='Blues_d'\n",
    ")\n",
    "ax.set(xlabel='-Authors-', ylabel='-No. of posts-')\n",
    "plt.show()"
   ]
  },
  {
   "cell_type": "markdown",
   "id": "368c231f-9c97-4907-a9dc-f9c0214e42f3",
   "metadata": {},
   "source": [
    "### Conclusion\n",
    "   We can see `ingve` is the most active user"
   ]
  },
  {
   "cell_type": "markdown",
   "id": "883575de-ea5c-4691-93a9-37792fbd289f",
   "metadata": {},
   "source": [
    "## Dividing months into Quarters\n",
    "\n",
    "- First converted `created_at` column into correct date_time format using `pd.to_datetime()` function\n",
    "- Then extracted month data from column using `.dt.month` object and stored in new list then converted it into DataFrame\n",
    "- Then added new column `qtr_info` using `month_created` and if/elif clauses"
   ]
  },
  {
   "cell_type": "code",
   "execution_count": 361,
   "id": "d949c884-f057-4cd9-975a-87baa1503674",
   "metadata": {},
   "outputs": [
    {
     "data": {
      "text/html": [
       "<div>\n",
       "<style scoped>\n",
       "    .dataframe tbody tr th:only-of-type {\n",
       "        vertical-align: middle;\n",
       "    }\n",
       "\n",
       "    .dataframe tbody tr th {\n",
       "        vertical-align: top;\n",
       "    }\n",
       "\n",
       "    .dataframe thead th {\n",
       "        text-align: right;\n",
       "    }\n",
       "</style>\n",
       "<table border=\"1\" class=\"dataframe\">\n",
       "  <thead>\n",
       "    <tr style=\"text-align: right;\">\n",
       "      <th></th>\n",
       "      <th>id</th>\n",
       "      <th>title</th>\n",
       "      <th>url</th>\n",
       "      <th>num_points</th>\n",
       "      <th>num_comments</th>\n",
       "      <th>author</th>\n",
       "      <th>created_at</th>\n",
       "      <th>month_created</th>\n",
       "    </tr>\n",
       "  </thead>\n",
       "  <tbody>\n",
       "    <tr>\n",
       "      <th>0</th>\n",
       "      <td>12224879</td>\n",
       "      <td>Interactive Dynamic Video</td>\n",
       "      <td>http://www.interactivedynamicvideo.com/</td>\n",
       "      <td>386</td>\n",
       "      <td>52</td>\n",
       "      <td>ne0phyte</td>\n",
       "      <td>2016-08-04 11:52:00</td>\n",
       "      <td>8</td>\n",
       "    </tr>\n",
       "    <tr>\n",
       "      <th>1</th>\n",
       "      <td>10975351</td>\n",
       "      <td>How to Use Open Source and Shut the Fuck Up at...</td>\n",
       "      <td>http://hueniverse.com/2016/01/26/how-to-use-op...</td>\n",
       "      <td>39</td>\n",
       "      <td>10</td>\n",
       "      <td>josep2</td>\n",
       "      <td>2016-01-26 19:30:00</td>\n",
       "      <td>1</td>\n",
       "    </tr>\n",
       "  </tbody>\n",
       "</table>\n",
       "</div>"
      ],
      "text/plain": [
       "         id                                              title  \\\n",
       "0  12224879                          Interactive Dynamic Video   \n",
       "1  10975351  How to Use Open Source and Shut the Fuck Up at...   \n",
       "\n",
       "                                                 url  num_points  \\\n",
       "0            http://www.interactivedynamicvideo.com/         386   \n",
       "1  http://hueniverse.com/2016/01/26/how-to-use-op...          39   \n",
       "\n",
       "   num_comments    author          created_at  month_created  \n",
       "0            52  ne0phyte 2016-08-04 11:52:00              8  \n",
       "1            10    josep2 2016-01-26 19:30:00              1  "
      ]
     },
     "execution_count": 361,
     "metadata": {},
     "output_type": "execute_result"
    }
   ],
   "source": [
    "hn['month_created'] = hn['created_at'].dt.month\n",
    "hn.head(2)"
   ]
  },
  {
   "cell_type": "code",
   "execution_count": 391,
   "id": "e9f241b9-b9ec-4534-96af-069c5c0d7455",
   "metadata": {
    "scrolled": true
   },
   "outputs": [
    {
     "data": {
      "text/html": [
       "<div>\n",
       "<style scoped>\n",
       "    .dataframe tbody tr th:only-of-type {\n",
       "        vertical-align: middle;\n",
       "    }\n",
       "\n",
       "    .dataframe tbody tr th {\n",
       "        vertical-align: top;\n",
       "    }\n",
       "\n",
       "    .dataframe thead th {\n",
       "        text-align: right;\n",
       "    }\n",
       "</style>\n",
       "<table border=\"1\" class=\"dataframe\">\n",
       "  <thead>\n",
       "    <tr style=\"text-align: right;\">\n",
       "      <th></th>\n",
       "      <th>qtr</th>\n",
       "    </tr>\n",
       "  </thead>\n",
       "  <tbody>\n",
       "    <tr>\n",
       "      <th>0</th>\n",
       "      <td>Q3</td>\n",
       "    </tr>\n",
       "    <tr>\n",
       "      <th>1</th>\n",
       "      <td>Q1</td>\n",
       "    </tr>\n",
       "    <tr>\n",
       "      <th>2</th>\n",
       "      <td>Q2</td>\n",
       "    </tr>\n",
       "    <tr>\n",
       "      <th>3</th>\n",
       "      <td>Q2</td>\n",
       "    </tr>\n",
       "    <tr>\n",
       "      <th>4</th>\n",
       "      <td>Q3</td>\n",
       "    </tr>\n",
       "  </tbody>\n",
       "</table>\n",
       "</div>"
      ],
      "text/plain": [
       "  qtr\n",
       "0  Q3\n",
       "1  Q1\n",
       "2  Q2\n",
       "3  Q2\n",
       "4  Q3"
      ]
     },
     "execution_count": 391,
     "metadata": {},
     "output_type": "execute_result"
    }
   ],
   "source": [
    "b = []\n",
    "for i in range(len(hn['month_created'])):\n",
    "    a = hn['month_created'].iloc[i]\n",
    "    if a<4:\n",
    "        b.append('Q1')\n",
    "    elif a>=4 and a<7:\n",
    "        b.append('Q2')\n",
    "    elif a>=7 and a<10:\n",
    "        b.append('Q3')\n",
    "    elif a>=10 and a<12:\n",
    "        b.append('Q4')\n",
    "\n",
    "qtr_df = pd.DataFrame({'qtr':b})\n",
    "qtr_df.head()"
   ]
  },
  {
   "cell_type": "code",
   "execution_count": 387,
   "id": "e0a4bcfa-352c-4c70-83b1-43c9974e8a05",
   "metadata": {},
   "outputs": [],
   "source": [
    "hn['qtr_info'] = qtr_df"
   ]
  },
  {
   "cell_type": "code",
   "execution_count": 389,
   "id": "9aeef9ec-65bf-4f57-a382-abff2566e33f",
   "metadata": {},
   "outputs": [
    {
     "data": {
      "text/html": [
       "<div>\n",
       "<style scoped>\n",
       "    .dataframe tbody tr th:only-of-type {\n",
       "        vertical-align: middle;\n",
       "    }\n",
       "\n",
       "    .dataframe tbody tr th {\n",
       "        vertical-align: top;\n",
       "    }\n",
       "\n",
       "    .dataframe thead th {\n",
       "        text-align: right;\n",
       "    }\n",
       "</style>\n",
       "<table border=\"1\" class=\"dataframe\">\n",
       "  <thead>\n",
       "    <tr style=\"text-align: right;\">\n",
       "      <th></th>\n",
       "      <th>id</th>\n",
       "      <th>title</th>\n",
       "      <th>url</th>\n",
       "      <th>num_points</th>\n",
       "      <th>num_comments</th>\n",
       "      <th>author</th>\n",
       "      <th>created_at</th>\n",
       "      <th>month_created</th>\n",
       "      <th>qtr_info</th>\n",
       "    </tr>\n",
       "  </thead>\n",
       "  <tbody>\n",
       "    <tr>\n",
       "      <th>0</th>\n",
       "      <td>12224879</td>\n",
       "      <td>Interactive Dynamic Video</td>\n",
       "      <td>http://www.interactivedynamicvideo.com/</td>\n",
       "      <td>386</td>\n",
       "      <td>52</td>\n",
       "      <td>ne0phyte</td>\n",
       "      <td>2016-08-04 11:52:00</td>\n",
       "      <td>8</td>\n",
       "      <td>Q3</td>\n",
       "    </tr>\n",
       "    <tr>\n",
       "      <th>1</th>\n",
       "      <td>10975351</td>\n",
       "      <td>How to Use Open Source and Shut the Fuck Up at...</td>\n",
       "      <td>http://hueniverse.com/2016/01/26/how-to-use-op...</td>\n",
       "      <td>39</td>\n",
       "      <td>10</td>\n",
       "      <td>josep2</td>\n",
       "      <td>2016-01-26 19:30:00</td>\n",
       "      <td>1</td>\n",
       "      <td>Q1</td>\n",
       "    </tr>\n",
       "  </tbody>\n",
       "</table>\n",
       "</div>"
      ],
      "text/plain": [
       "         id                                              title  \\\n",
       "0  12224879                          Interactive Dynamic Video   \n",
       "1  10975351  How to Use Open Source and Shut the Fuck Up at...   \n",
       "\n",
       "                                                 url  num_points  \\\n",
       "0            http://www.interactivedynamicvideo.com/         386   \n",
       "1  http://hueniverse.com/2016/01/26/how-to-use-op...          39   \n",
       "\n",
       "   num_comments    author          created_at  month_created qtr_info  \n",
       "0            52  ne0phyte 2016-08-04 11:52:00              8       Q3  \n",
       "1            10    josep2 2016-01-26 19:30:00              1       Q1  "
      ]
     },
     "execution_count": 389,
     "metadata": {},
     "output_type": "execute_result"
    }
   ],
   "source": [
    "hn.head(2)"
   ]
  },
  {
   "cell_type": "markdown",
   "id": "53ca383c-d982-419a-bdcc-7bee7e8d2b05",
   "metadata": {},
   "source": [
    "## Posts according to different Quarters of the Year"
   ]
  },
  {
   "cell_type": "code",
   "execution_count": 431,
   "id": "a5d019ec-122b-4456-9fd2-cf50c1fe5360",
   "metadata": {},
   "outputs": [
    {
     "data": {
      "text/plain": [
       "qtr_info\n",
       "Q3    237392\n",
       "Q1    209606\n",
       "Q2    197111\n",
       "Q4    142399\n",
       "Name: num_points, dtype: int64"
      ]
     },
     "execution_count": 431,
     "metadata": {},
     "output_type": "execute_result"
    }
   ],
   "source": [
    "hn['num_points'].groupby(hn['qtr_info']).sum().sort_values(ascending=False)"
   ]
  },
  {
   "cell_type": "markdown",
   "id": "fae1ac66-a77d-4189-8cf7-e378a59aa937",
   "metadata": {},
   "source": [
    "### Conclusion ->\n",
    "    Most posts were added in Q3 i.e. July, August and September!"
   ]
  },
  {
   "cell_type": "markdown",
   "id": "e7f1b766-31a6-495d-a105-928b8febf884",
   "metadata": {},
   "source": [
    "## Posts according to the hour of the day"
   ]
  },
  {
   "cell_type": "code",
   "execution_count": 423,
   "id": "d187daea-71c6-449d-b582-d91e8b16fd05",
   "metadata": {},
   "outputs": [
    {
     "data": {
      "text/plain": [
       "created_at\n",
       "17    70073\n",
       "15    64939\n",
       "16    62017\n",
       "14    61225\n",
       "18    60365\n",
       "13    59724\n",
       "19    57686\n",
       "12    47538\n",
       "21    43722\n",
       "20    42756\n",
       "11    39272\n",
       "22    39115\n",
       "0     36686\n",
       "23    36391\n",
       "10    36288\n",
       "9     29216\n",
       "8     27002\n",
       "2     26034\n",
       "7     25837\n",
       "1     25771\n",
       "4     22798\n",
       "3     22723\n",
       "5     19411\n",
       "6     19157\n",
       "Name: num_points, dtype: int64"
      ]
     },
     "execution_count": 423,
     "metadata": {},
     "output_type": "execute_result"
    }
   ],
   "source": [
    "hn['num_points'].groupby(hn['created_at'].dt.hour).sum().sort_values(ascending=False)"
   ]
  },
  {
   "cell_type": "markdown",
   "id": "100276f4-7cfa-4054-964a-ed2de5ffd0c6",
   "metadata": {},
   "source": [
    "### Conclusion ->\n",
    "    Hence most posts are created at 17:00 hours, while max. freq of posts being created b/w 13:00 to 19:00 hours"
   ]
  },
  {
   "cell_type": "code",
   "execution_count": null,
   "id": "76a6b5d2-c071-4dd1-9c75-efb0d4a78f15",
   "metadata": {},
   "outputs": [],
   "source": []
  }
 ],
 "metadata": {
  "kernelspec": {
   "display_name": "Python 3 (ipykernel)",
   "language": "python",
   "name": "python3"
  },
  "language_info": {
   "codemirror_mode": {
    "name": "ipython",
    "version": 3
   },
   "file_extension": ".py",
   "mimetype": "text/x-python",
   "name": "python",
   "nbconvert_exporter": "python",
   "pygments_lexer": "ipython3",
   "version": "3.11.5"
  }
 },
 "nbformat": 4,
 "nbformat_minor": 5
}
