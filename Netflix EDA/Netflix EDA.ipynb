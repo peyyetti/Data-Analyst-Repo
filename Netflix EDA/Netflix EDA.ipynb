{
 "cells": [
  {
   "cell_type": "code",
   "execution_count": 1,
   "id": "b518f3fc",
   "metadata": {},
   "outputs": [],
   "source": [
    "import numpy as np\n",
    "import pandas as pd\n",
    "import matplotlib.pyplot as plt\n",
    "%matplotlib inline"
   ]
  },
  {
   "cell_type": "code",
   "execution_count": 2,
   "id": "c8765eeb",
   "metadata": {},
   "outputs": [],
   "source": [
    "netflix = pd.read_csv('netflix_titles_2021.csv')"
   ]
  },
  {
   "cell_type": "markdown",
   "id": "e57d89a5",
   "metadata": {},
   "source": [
    "# Observations in dataset\n",
    "\n",
    "Dataset obtained from - https://www.kaggle.com/datasets/swatikhedekar/exploratory-data-analysis-on-netflix-data/data?select=netflix_titles_2021.csv\n",
    "\n",
    "### 1. Dirty Data\n",
    "    - missing data in director, cast, country, date_added, rating and duration columns --> Filled missing data in rows with more than 100 missing values and deleted others with fewer missing values\n",
    "    - missing percentage of data in director col is HIGHEST(29%) --> Filled missing values by \"John Doe\"\n",
    "    - wrong data types in date_added col --> Corrected to date_time format\n",
    "    \n",
    "### 2. Messy Data\n",
    "    - inconsistent formatting in duration column - seasons and min"
   ]
  },
  {
   "cell_type": "code",
   "execution_count": 4,
   "id": "65c918c1",
   "metadata": {},
   "outputs": [
    {
     "data": {
      "text/html": [
       "<div>\n",
       "<style scoped>\n",
       "    .dataframe tbody tr th:only-of-type {\n",
       "        vertical-align: middle;\n",
       "    }\n",
       "\n",
       "    .dataframe tbody tr th {\n",
       "        vertical-align: top;\n",
       "    }\n",
       "\n",
       "    .dataframe thead th {\n",
       "        text-align: right;\n",
       "    }\n",
       "</style>\n",
       "<table border=\"1\" class=\"dataframe\">\n",
       "  <thead>\n",
       "    <tr style=\"text-align: right;\">\n",
       "      <th></th>\n",
       "      <th>show_id</th>\n",
       "      <th>type</th>\n",
       "      <th>title</th>\n",
       "      <th>director</th>\n",
       "      <th>cast</th>\n",
       "      <th>country</th>\n",
       "      <th>date_added</th>\n",
       "      <th>release_year</th>\n",
       "      <th>rating</th>\n",
       "      <th>duration</th>\n",
       "      <th>listed_in</th>\n",
       "      <th>description</th>\n",
       "    </tr>\n",
       "  </thead>\n",
       "  <tbody>\n",
       "    <tr>\n",
       "      <th>8802</th>\n",
       "      <td>s8803</td>\n",
       "      <td>Movie</td>\n",
       "      <td>Zodiac</td>\n",
       "      <td>David Fincher</td>\n",
       "      <td>Mark Ruffalo, Jake Gyllenhaal, Robert Downey J...</td>\n",
       "      <td>United States</td>\n",
       "      <td>November 20, 2019</td>\n",
       "      <td>2007</td>\n",
       "      <td>R</td>\n",
       "      <td>158 min</td>\n",
       "      <td>Cult Movies, Dramas, Thrillers</td>\n",
       "      <td>A political cartoonist, a crime reporter and a...</td>\n",
       "    </tr>\n",
       "    <tr>\n",
       "      <th>8803</th>\n",
       "      <td>s8804</td>\n",
       "      <td>TV Show</td>\n",
       "      <td>Zombie Dumb</td>\n",
       "      <td>NaN</td>\n",
       "      <td>NaN</td>\n",
       "      <td>NaN</td>\n",
       "      <td>July 1, 2019</td>\n",
       "      <td>2018</td>\n",
       "      <td>TV-Y7</td>\n",
       "      <td>2 Seasons</td>\n",
       "      <td>Kids' TV, Korean TV Shows, TV Comedies</td>\n",
       "      <td>While living alone in a spooky town, a young g...</td>\n",
       "    </tr>\n",
       "    <tr>\n",
       "      <th>8804</th>\n",
       "      <td>s8805</td>\n",
       "      <td>Movie</td>\n",
       "      <td>Zombieland</td>\n",
       "      <td>Ruben Fleischer</td>\n",
       "      <td>Jesse Eisenberg, Woody Harrelson, Emma Stone, ...</td>\n",
       "      <td>United States</td>\n",
       "      <td>November 1, 2019</td>\n",
       "      <td>2009</td>\n",
       "      <td>R</td>\n",
       "      <td>88 min</td>\n",
       "      <td>Comedies, Horror Movies</td>\n",
       "      <td>Looking to survive in a world taken over by zo...</td>\n",
       "    </tr>\n",
       "    <tr>\n",
       "      <th>8805</th>\n",
       "      <td>s8806</td>\n",
       "      <td>Movie</td>\n",
       "      <td>Zoom</td>\n",
       "      <td>Peter Hewitt</td>\n",
       "      <td>Tim Allen, Courteney Cox, Chevy Chase, Kate Ma...</td>\n",
       "      <td>United States</td>\n",
       "      <td>January 11, 2020</td>\n",
       "      <td>2006</td>\n",
       "      <td>PG</td>\n",
       "      <td>88 min</td>\n",
       "      <td>Children &amp; Family Movies, Comedies</td>\n",
       "      <td>Dragged from civilian life, a former superhero...</td>\n",
       "    </tr>\n",
       "    <tr>\n",
       "      <th>8806</th>\n",
       "      <td>s8807</td>\n",
       "      <td>Movie</td>\n",
       "      <td>Zubaan</td>\n",
       "      <td>Mozez Singh</td>\n",
       "      <td>Vicky Kaushal, Sarah-Jane Dias, Raaghav Chanan...</td>\n",
       "      <td>India</td>\n",
       "      <td>March 2, 2019</td>\n",
       "      <td>2015</td>\n",
       "      <td>TV-14</td>\n",
       "      <td>111 min</td>\n",
       "      <td>Dramas, International Movies, Music &amp; Musicals</td>\n",
       "      <td>A scrappy but poor boy worms his way into a ty...</td>\n",
       "    </tr>\n",
       "  </tbody>\n",
       "</table>\n",
       "</div>"
      ],
      "text/plain": [
       "     show_id     type        title         director  \\\n",
       "8802   s8803    Movie       Zodiac    David Fincher   \n",
       "8803   s8804  TV Show  Zombie Dumb              NaN   \n",
       "8804   s8805    Movie   Zombieland  Ruben Fleischer   \n",
       "8805   s8806    Movie         Zoom     Peter Hewitt   \n",
       "8806   s8807    Movie       Zubaan      Mozez Singh   \n",
       "\n",
       "                                                   cast        country  \\\n",
       "8802  Mark Ruffalo, Jake Gyllenhaal, Robert Downey J...  United States   \n",
       "8803                                                NaN            NaN   \n",
       "8804  Jesse Eisenberg, Woody Harrelson, Emma Stone, ...  United States   \n",
       "8805  Tim Allen, Courteney Cox, Chevy Chase, Kate Ma...  United States   \n",
       "8806  Vicky Kaushal, Sarah-Jane Dias, Raaghav Chanan...          India   \n",
       "\n",
       "             date_added  release_year rating   duration  \\\n",
       "8802  November 20, 2019          2007      R    158 min   \n",
       "8803       July 1, 2019          2018  TV-Y7  2 Seasons   \n",
       "8804   November 1, 2019          2009      R     88 min   \n",
       "8805   January 11, 2020          2006     PG     88 min   \n",
       "8806      March 2, 2019          2015  TV-14    111 min   \n",
       "\n",
       "                                           listed_in  \\\n",
       "8802                  Cult Movies, Dramas, Thrillers   \n",
       "8803          Kids' TV, Korean TV Shows, TV Comedies   \n",
       "8804                         Comedies, Horror Movies   \n",
       "8805              Children & Family Movies, Comedies   \n",
       "8806  Dramas, International Movies, Music & Musicals   \n",
       "\n",
       "                                            description  \n",
       "8802  A political cartoonist, a crime reporter and a...  \n",
       "8803  While living alone in a spooky town, a young g...  \n",
       "8804  Looking to survive in a world taken over by zo...  \n",
       "8805  Dragged from civilian life, a former superhero...  \n",
       "8806  A scrappy but poor boy worms his way into a ty...  "
      ]
     },
     "execution_count": 4,
     "metadata": {},
     "output_type": "execute_result"
    }
   ],
   "source": [
    "netflix.tail()"
   ]
  },
  {
   "cell_type": "code",
   "execution_count": 5,
   "id": "cfbde1ba",
   "metadata": {
    "scrolled": true
   },
   "outputs": [
    {
     "name": "stdout",
     "output_type": "stream",
     "text": [
      "<class 'pandas.core.frame.DataFrame'>\n",
      "RangeIndex: 8807 entries, 0 to 8806\n",
      "Data columns (total 12 columns):\n",
      " #   Column        Non-Null Count  Dtype \n",
      "---  ------        --------------  ----- \n",
      " 0   show_id       8807 non-null   object\n",
      " 1   type          8807 non-null   object\n",
      " 2   title         8807 non-null   object\n",
      " 3   director      6173 non-null   object\n",
      " 4   cast          7982 non-null   object\n",
      " 5   country       7976 non-null   object\n",
      " 6   date_added    8797 non-null   object\n",
      " 7   release_year  8807 non-null   int64 \n",
      " 8   rating        8803 non-null   object\n",
      " 9   duration      8804 non-null   object\n",
      " 10  listed_in     8807 non-null   object\n",
      " 11  description   8807 non-null   object\n",
      "dtypes: int64(1), object(11)\n",
      "memory usage: 825.8+ KB\n"
     ]
    }
   ],
   "source": [
    "netflix.info()"
   ]
  },
  {
   "cell_type": "code",
   "execution_count": 6,
   "id": "5e9f522a",
   "metadata": {
    "scrolled": true
   },
   "outputs": [
    {
     "data": {
      "text/html": [
       "<div>\n",
       "<style scoped>\n",
       "    .dataframe tbody tr th:only-of-type {\n",
       "        vertical-align: middle;\n",
       "    }\n",
       "\n",
       "    .dataframe tbody tr th {\n",
       "        vertical-align: top;\n",
       "    }\n",
       "\n",
       "    .dataframe thead th {\n",
       "        text-align: right;\n",
       "    }\n",
       "</style>\n",
       "<table border=\"1\" class=\"dataframe\">\n",
       "  <thead>\n",
       "    <tr style=\"text-align: right;\">\n",
       "      <th></th>\n",
       "      <th>release_year</th>\n",
       "    </tr>\n",
       "  </thead>\n",
       "  <tbody>\n",
       "    <tr>\n",
       "      <th>count</th>\n",
       "      <td>8807.000000</td>\n",
       "    </tr>\n",
       "    <tr>\n",
       "      <th>mean</th>\n",
       "      <td>2014.180198</td>\n",
       "    </tr>\n",
       "    <tr>\n",
       "      <th>std</th>\n",
       "      <td>8.819312</td>\n",
       "    </tr>\n",
       "    <tr>\n",
       "      <th>min</th>\n",
       "      <td>1925.000000</td>\n",
       "    </tr>\n",
       "    <tr>\n",
       "      <th>25%</th>\n",
       "      <td>2013.000000</td>\n",
       "    </tr>\n",
       "    <tr>\n",
       "      <th>50%</th>\n",
       "      <td>2017.000000</td>\n",
       "    </tr>\n",
       "    <tr>\n",
       "      <th>75%</th>\n",
       "      <td>2019.000000</td>\n",
       "    </tr>\n",
       "    <tr>\n",
       "      <th>max</th>\n",
       "      <td>2021.000000</td>\n",
       "    </tr>\n",
       "  </tbody>\n",
       "</table>\n",
       "</div>"
      ],
      "text/plain": [
       "       release_year\n",
       "count   8807.000000\n",
       "mean    2014.180198\n",
       "std        8.819312\n",
       "min     1925.000000\n",
       "25%     2013.000000\n",
       "50%     2017.000000\n",
       "75%     2019.000000\n",
       "max     2021.000000"
      ]
     },
     "execution_count": 6,
     "metadata": {},
     "output_type": "execute_result"
    }
   ],
   "source": [
    "netflix.describe()"
   ]
  },
  {
   "cell_type": "code",
   "execution_count": 7,
   "id": "3521f187",
   "metadata": {
    "scrolled": true
   },
   "outputs": [
    {
     "data": {
      "text/plain": [
       "Index(['show_id', 'type', 'title', 'director', 'cast', 'country', 'date_added',\n",
       "       'release_year', 'rating', 'duration', 'listed_in', 'description'],\n",
       "      dtype='object')"
      ]
     },
     "execution_count": 7,
     "metadata": {},
     "output_type": "execute_result"
    }
   ],
   "source": [
    "netflix.columns"
   ]
  },
  {
   "cell_type": "markdown",
   "id": "b6af2e29-85ed-47d4-bd58-1fcd390571a8",
   "metadata": {},
   "source": [
    "## Checking missing values"
   ]
  },
  {
   "cell_type": "code",
   "execution_count": 9,
   "id": "bba5fbe4",
   "metadata": {},
   "outputs": [
    {
     "data": {
      "text/plain": [
       "show_id            0\n",
       "type               0\n",
       "title              0\n",
       "director        2634\n",
       "cast             825\n",
       "country          831\n",
       "date_added        10\n",
       "release_year       0\n",
       "rating             4\n",
       "duration           3\n",
       "listed_in          0\n",
       "description        0\n",
       "dtype: int64"
      ]
     },
     "execution_count": 9,
     "metadata": {},
     "output_type": "execute_result"
    }
   ],
   "source": [
    "missing = netflix.isnull().sum()\n",
    "missing "
   ]
  },
  {
   "cell_type": "code",
   "execution_count": 10,
   "id": "3d84b1cf",
   "metadata": {},
   "outputs": [
    {
     "data": {
      "text/plain": [
       "8807"
      ]
     },
     "execution_count": 10,
     "metadata": {},
     "output_type": "execute_result"
    }
   ],
   "source": [
    "len(netflix)"
   ]
  },
  {
   "cell_type": "code",
   "execution_count": 11,
   "id": "5d46b8c3",
   "metadata": {},
   "outputs": [
    {
     "data": {
      "text/plain": [
       "show_id          0.000000\n",
       "type             0.000000\n",
       "title            0.000000\n",
       "director        29.908028\n",
       "cast             9.367549\n",
       "country          9.435676\n",
       "date_added       0.113546\n",
       "release_year     0.000000\n",
       "rating           0.045418\n",
       "duration         0.034064\n",
       "listed_in        0.000000\n",
       "description      0.000000\n",
       "dtype: float64"
      ]
     },
     "execution_count": 11,
     "metadata": {},
     "output_type": "execute_result"
    }
   ],
   "source": [
    "miss_cent = (netflix.isnull().sum()/len(netflix)) * 100\n",
    "miss_cent"
   ]
  },
  {
   "cell_type": "code",
   "execution_count": 12,
   "id": "ae4fdb7c",
   "metadata": {},
   "outputs": [
    {
     "data": {
      "text/html": [
       "<div>\n",
       "<style scoped>\n",
       "    .dataframe tbody tr th:only-of-type {\n",
       "        vertical-align: middle;\n",
       "    }\n",
       "\n",
       "    .dataframe tbody tr th {\n",
       "        vertical-align: top;\n",
       "    }\n",
       "\n",
       "    .dataframe thead th {\n",
       "        text-align: right;\n",
       "    }\n",
       "</style>\n",
       "<table border=\"1\" class=\"dataframe\">\n",
       "  <thead>\n",
       "    <tr style=\"text-align: right;\">\n",
       "      <th></th>\n",
       "      <th>missing</th>\n",
       "      <th>miss%</th>\n",
       "    </tr>\n",
       "  </thead>\n",
       "  <tbody>\n",
       "    <tr>\n",
       "      <th>show_id</th>\n",
       "      <td>0</td>\n",
       "      <td>0.000000</td>\n",
       "    </tr>\n",
       "    <tr>\n",
       "      <th>type</th>\n",
       "      <td>0</td>\n",
       "      <td>0.000000</td>\n",
       "    </tr>\n",
       "    <tr>\n",
       "      <th>title</th>\n",
       "      <td>0</td>\n",
       "      <td>0.000000</td>\n",
       "    </tr>\n",
       "    <tr>\n",
       "      <th>director</th>\n",
       "      <td>2634</td>\n",
       "      <td>29.908028</td>\n",
       "    </tr>\n",
       "    <tr>\n",
       "      <th>cast</th>\n",
       "      <td>825</td>\n",
       "      <td>9.367549</td>\n",
       "    </tr>\n",
       "    <tr>\n",
       "      <th>country</th>\n",
       "      <td>831</td>\n",
       "      <td>9.435676</td>\n",
       "    </tr>\n",
       "    <tr>\n",
       "      <th>date_added</th>\n",
       "      <td>10</td>\n",
       "      <td>0.113546</td>\n",
       "    </tr>\n",
       "    <tr>\n",
       "      <th>release_year</th>\n",
       "      <td>0</td>\n",
       "      <td>0.000000</td>\n",
       "    </tr>\n",
       "    <tr>\n",
       "      <th>rating</th>\n",
       "      <td>4</td>\n",
       "      <td>0.045418</td>\n",
       "    </tr>\n",
       "    <tr>\n",
       "      <th>duration</th>\n",
       "      <td>3</td>\n",
       "      <td>0.034064</td>\n",
       "    </tr>\n",
       "    <tr>\n",
       "      <th>listed_in</th>\n",
       "      <td>0</td>\n",
       "      <td>0.000000</td>\n",
       "    </tr>\n",
       "    <tr>\n",
       "      <th>description</th>\n",
       "      <td>0</td>\n",
       "      <td>0.000000</td>\n",
       "    </tr>\n",
       "  </tbody>\n",
       "</table>\n",
       "</div>"
      ],
      "text/plain": [
       "              missing      miss%\n",
       "show_id             0   0.000000\n",
       "type                0   0.000000\n",
       "title               0   0.000000\n",
       "director         2634  29.908028\n",
       "cast              825   9.367549\n",
       "country           831   9.435676\n",
       "date_added         10   0.113546\n",
       "release_year        0   0.000000\n",
       "rating              4   0.045418\n",
       "duration            3   0.034064\n",
       "listed_in           0   0.000000\n",
       "description         0   0.000000"
      ]
     },
     "execution_count": 12,
     "metadata": {},
     "output_type": "execute_result"
    }
   ],
   "source": [
    "missing_df = pd.concat([missing,miss_cent],axis=1, keys=['missing', 'miss%'])\n",
    "missing_df"
   ]
  },
  {
   "cell_type": "code",
   "execution_count": 13,
   "id": "4dd94c31",
   "metadata": {},
   "outputs": [],
   "source": [
    "import seaborn as sns"
   ]
  },
  {
   "cell_type": "code",
   "execution_count": 14,
   "id": "fcbe5c90",
   "metadata": {
    "scrolled": true
   },
   "outputs": [
    {
     "data": {
      "text/plain": [
       "<Axes: >"
      ]
     },
     "execution_count": 14,
     "metadata": {},
     "output_type": "execute_result"
    },
    {
     "data": {
      "image/png": "[encoded data removed]",
      "text/plain": [
       "<Figure size 640x480 with 2 Axes>"
      ]
     },
     "metadata": {},
     "output_type": "display_data"
    }
   ],
   "source": [
    "sns.heatmap(netflix.isnull(), cmap='viridis')"
   ]
  },
  {
   "cell_type": "markdown",
   "id": "40b51841-1447-47db-9323-9fc20cd60aef",
   "metadata": {},
   "source": [
    "## Filling missing values"
   ]
  },
  {
   "cell_type": "code",
   "execution_count": 16,
   "id": "6ec87891-a076-4b46-84d4-23c85d7bd862",
   "metadata": {},
   "outputs": [],
   "source": [
    "netflix[['director','cast']] = netflix[['director','cast']].fillna({'director':'John Doe',\"cast\":'actors'})"
   ]
  },
  {
   "cell_type": "code",
   "execution_count": 17,
   "id": "a18111c4-6aa3-4f4b-86ea-4294cfa7150e",
   "metadata": {},
   "outputs": [],
   "source": [
    "netflix['country'] = netflix['country'].fillna('Random_Country')"
   ]
  },
  {
   "cell_type": "code",
   "execution_count": 18,
   "id": "f6274af2-90b7-4d3e-8f92-f087142989b8",
   "metadata": {},
   "outputs": [],
   "source": [
    "# dropped the rows with missing values where % of data missing was <1%\n",
    "netflix = netflix.dropna()"
   ]
  },
  {
   "cell_type": "code",
   "execution_count": 19,
   "id": "24717cea",
   "metadata": {},
   "outputs": [
    {
     "data": {
      "text/html": [
       "<div>\n",
       "<style scoped>\n",
       "    .dataframe tbody tr th:only-of-type {\n",
       "        vertical-align: middle;\n",
       "    }\n",
       "\n",
       "    .dataframe tbody tr th {\n",
       "        vertical-align: top;\n",
       "    }\n",
       "\n",
       "    .dataframe thead th {\n",
       "        text-align: right;\n",
       "    }\n",
       "</style>\n",
       "<table border=\"1\" class=\"dataframe\">\n",
       "  <thead>\n",
       "    <tr style=\"text-align: right;\">\n",
       "      <th></th>\n",
       "      <th>show_id</th>\n",
       "      <th>type</th>\n",
       "      <th>title</th>\n",
       "      <th>director</th>\n",
       "      <th>cast</th>\n",
       "      <th>country</th>\n",
       "      <th>date_added</th>\n",
       "      <th>release_year</th>\n",
       "      <th>rating</th>\n",
       "      <th>duration</th>\n",
       "      <th>listed_in</th>\n",
       "      <th>description</th>\n",
       "    </tr>\n",
       "  </thead>\n",
       "  <tbody>\n",
       "    <tr>\n",
       "      <th>0</th>\n",
       "      <td>s1</td>\n",
       "      <td>Movie</td>\n",
       "      <td>Dick Johnson Is Dead</td>\n",
       "      <td>Kirsten Johnson</td>\n",
       "      <td>actors</td>\n",
       "      <td>United States</td>\n",
       "      <td>September 25, 2021</td>\n",
       "      <td>2020</td>\n",
       "      <td>PG-13</td>\n",
       "      <td>90 min</td>\n",
       "      <td>Documentaries</td>\n",
       "      <td>As her father nears the end of his life, filmm...</td>\n",
       "    </tr>\n",
       "    <tr>\n",
       "      <th>1</th>\n",
       "      <td>s2</td>\n",
       "      <td>TV Show</td>\n",
       "      <td>Blood &amp; Water</td>\n",
       "      <td>John Doe</td>\n",
       "      <td>Ama Qamata, Khosi Ngema, Gail Mabalane, Thaban...</td>\n",
       "      <td>South Africa</td>\n",
       "      <td>September 24, 2021</td>\n",
       "      <td>2021</td>\n",
       "      <td>TV-MA</td>\n",
       "      <td>2 Seasons</td>\n",
       "      <td>International TV Shows, TV Dramas, TV Mysteries</td>\n",
       "      <td>After crossing paths at a party, a Cape Town t...</td>\n",
       "    </tr>\n",
       "    <tr>\n",
       "      <th>2</th>\n",
       "      <td>s3</td>\n",
       "      <td>TV Show</td>\n",
       "      <td>Ganglands</td>\n",
       "      <td>Julien Leclercq</td>\n",
       "      <td>Sami Bouajila, Tracy Gotoas, Samuel Jouy, Nabi...</td>\n",
       "      <td>Random_Country</td>\n",
       "      <td>September 24, 2021</td>\n",
       "      <td>2021</td>\n",
       "      <td>TV-MA</td>\n",
       "      <td>1 Season</td>\n",
       "      <td>Crime TV Shows, International TV Shows, TV Act...</td>\n",
       "      <td>To protect his family from a powerful drug lor...</td>\n",
       "    </tr>\n",
       "    <tr>\n",
       "      <th>3</th>\n",
       "      <td>s4</td>\n",
       "      <td>TV Show</td>\n",
       "      <td>Jailbirds New Orleans</td>\n",
       "      <td>John Doe</td>\n",
       "      <td>actors</td>\n",
       "      <td>Random_Country</td>\n",
       "      <td>September 24, 2021</td>\n",
       "      <td>2021</td>\n",
       "      <td>TV-MA</td>\n",
       "      <td>1 Season</td>\n",
       "      <td>Docuseries, Reality TV</td>\n",
       "      <td>Feuds, flirtations and toilet talk go down amo...</td>\n",
       "    </tr>\n",
       "    <tr>\n",
       "      <th>4</th>\n",
       "      <td>s5</td>\n",
       "      <td>TV Show</td>\n",
       "      <td>Kota Factory</td>\n",
       "      <td>John Doe</td>\n",
       "      <td>Mayur More, Jitendra Kumar, Ranjan Raj, Alam K...</td>\n",
       "      <td>India</td>\n",
       "      <td>September 24, 2021</td>\n",
       "      <td>2021</td>\n",
       "      <td>TV-MA</td>\n",
       "      <td>2 Seasons</td>\n",
       "      <td>International TV Shows, Romantic TV Shows, TV ...</td>\n",
       "      <td>In a city of coaching centers known to train I...</td>\n",
       "    </tr>\n",
       "  </tbody>\n",
       "</table>\n",
       "</div>"
      ],
      "text/plain": [
       "  show_id     type                  title         director  \\\n",
       "0      s1    Movie   Dick Johnson Is Dead  Kirsten Johnson   \n",
       "1      s2  TV Show          Blood & Water         John Doe   \n",
       "2      s3  TV Show              Ganglands  Julien Leclercq   \n",
       "3      s4  TV Show  Jailbirds New Orleans         John Doe   \n",
       "4      s5  TV Show           Kota Factory         John Doe   \n",
       "\n",
       "                                                cast         country  \\\n",
       "0                                             actors   United States   \n",
       "1  Ama Qamata, Khosi Ngema, Gail Mabalane, Thaban...    South Africa   \n",
       "2  Sami Bouajila, Tracy Gotoas, Samuel Jouy, Nabi...  Random_Country   \n",
       "3                                             actors  Random_Country   \n",
       "4  Mayur More, Jitendra Kumar, Ranjan Raj, Alam K...           India   \n",
       "\n",
       "           date_added  release_year rating   duration  \\\n",
       "0  September 25, 2021          2020  PG-13     90 min   \n",
       "1  September 24, 2021          2021  TV-MA  2 Seasons   \n",
       "2  September 24, 2021          2021  TV-MA   1 Season   \n",
       "3  September 24, 2021          2021  TV-MA   1 Season   \n",
       "4  September 24, 2021          2021  TV-MA  2 Seasons   \n",
       "\n",
       "                                           listed_in  \\\n",
       "0                                      Documentaries   \n",
       "1    International TV Shows, TV Dramas, TV Mysteries   \n",
       "2  Crime TV Shows, International TV Shows, TV Act...   \n",
       "3                             Docuseries, Reality TV   \n",
       "4  International TV Shows, Romantic TV Shows, TV ...   \n",
       "\n",
       "                                         description  \n",
       "0  As her father nears the end of his life, filmm...  \n",
       "1  After crossing paths at a party, a Cape Town t...  \n",
       "2  To protect his family from a powerful drug lor...  \n",
       "3  Feuds, flirtations and toilet talk go down amo...  \n",
       "4  In a city of coaching centers known to train I...  "
      ]
     },
     "execution_count": 19,
     "metadata": {},
     "output_type": "execute_result"
    }
   ],
   "source": [
    "netflix.head()"
   ]
  },
  {
   "cell_type": "markdown",
   "id": "2332f6f3-166b-4bff-befa-e21c12de7867",
   "metadata": {},
   "source": [
    "## Checking for duplicate values"
   ]
  },
  {
   "cell_type": "code",
   "execution_count": 21,
   "id": "ffb86ff4-86e6-49f9-9566-4a9e99b7a945",
   "metadata": {
    "scrolled": true
   },
   "outputs": [
    {
     "data": {
      "text/html": [
       "<div>\n",
       "<style scoped>\n",
       "    .dataframe tbody tr th:only-of-type {\n",
       "        vertical-align: middle;\n",
       "    }\n",
       "\n",
       "    .dataframe tbody tr th {\n",
       "        vertical-align: top;\n",
       "    }\n",
       "\n",
       "    .dataframe thead th {\n",
       "        text-align: right;\n",
       "    }\n",
       "</style>\n",
       "<table border=\"1\" class=\"dataframe\">\n",
       "  <thead>\n",
       "    <tr style=\"text-align: right;\">\n",
       "      <th></th>\n",
       "      <th>show_id</th>\n",
       "      <th>type</th>\n",
       "      <th>title</th>\n",
       "      <th>director</th>\n",
       "      <th>cast</th>\n",
       "      <th>country</th>\n",
       "      <th>date_added</th>\n",
       "      <th>release_year</th>\n",
       "      <th>rating</th>\n",
       "      <th>duration</th>\n",
       "      <th>listed_in</th>\n",
       "      <th>description</th>\n",
       "    </tr>\n",
       "  </thead>\n",
       "  <tbody>\n",
       "  </tbody>\n",
       "</table>\n",
       "</div>"
      ],
      "text/plain": [
       "Empty DataFrame\n",
       "Columns: [show_id, type, title, director, cast, country, date_added, release_year, rating, duration, listed_in, description]\n",
       "Index: []"
      ]
     },
     "execution_count": 21,
     "metadata": {},
     "output_type": "execute_result"
    }
   ],
   "source": [
    "netflix[netflix.duplicated()]"
   ]
  },
  {
   "cell_type": "markdown",
   "id": "35d6bdad-a976-4d09-ac78-b4cd125b69ad",
   "metadata": {},
   "source": [
    "-- No duplicated values found in the dataset"
   ]
  },
  {
   "cell_type": "markdown",
   "id": "5993f892-317c-4eff-a922-5e2d3f9e21fc",
   "metadata": {},
   "source": [
    "## Correcting data_type of `date_added` column from `OBJECT` to `date_time`"
   ]
  },
  {
   "cell_type": "code",
   "execution_count": 24,
   "id": "8e619e08-11ef-4dbd-bdc6-ea0811f756f0",
   "metadata": {},
   "outputs": [],
   "source": [
    "# Converting string column containing date_time info into date_time format\n",
    "\n",
    "netflix['date_added'] = pd.to_datetime(netflix['date_added'], format='mixed')"
   ]
  },
  {
   "cell_type": "markdown",
   "id": "9b46f946-a7c1-4123-ac6c-505bc0b4ebc8",
   "metadata": {},
   "source": [
    "## Different movies (count) according to their `rating`"
   ]
  },
  {
   "cell_type": "code",
   "execution_count": 26,
   "id": "2588ec80",
   "metadata": {},
   "outputs": [
    {
     "data": {
      "text/plain": [
       "<Axes: xlabel='rating', ylabel='count'>"
      ]
     },
     "execution_count": 26,
     "metadata": {},
     "output_type": "execute_result"
    },
    {
     "data": {
      "image/png": "[encoded data removed]",
      "text/plain": [
       "<Figure size 640x480 with 1 Axes>"
      ]
     },
     "metadata": {},
     "output_type": "display_data"
    }
   ],
   "source": [
    "sns.barplot(data = netflix, x = netflix['rating'].value_counts().head(6).index, y=netflix['rating'].value_counts().head(6))"
   ]
  },
  {
   "cell_type": "markdown",
   "id": "7f1b3c93-fa2b-48dc-a76e-d048ee39a246",
   "metadata": {},
   "source": [
    "## Different movies (count) according to their `release_year`"
   ]
  },
  {
   "cell_type": "code",
   "execution_count": 28,
   "id": "a581319b-bd68-4e5c-9b8d-87bea511753a",
   "metadata": {
    "scrolled": true
   },
   "outputs": [
    {
     "data": {
      "text/plain": [
       "<Axes: xlabel='release_year', ylabel='count'>"
      ]
     },
     "execution_count": 28,
     "metadata": {},
     "output_type": "execute_result"
    },
    {
     "data": {
      "image/png": "[encoded data removed]",
      "text/plain": [
       "<Figure size 640x480 with 1 Axes>"
      ]
     },
     "metadata": {},
     "output_type": "display_data"
    }
   ],
   "source": [
    "sns.barplot(data = netflix, x = netflix['release_year'].value_counts().head(7).index, y=netflix['release_year'].value_counts().head(7))"
   ]
  },
  {
   "cell_type": "code",
   "execution_count": 29,
   "id": "f12f37d2-d1ff-41fd-836e-1b3c52a9d469",
   "metadata": {},
   "outputs": [
    {
     "data": {
      "text/plain": [
       "Index(['United States', 'India', 'Random_Country', 'United Kingdom'], dtype='object', name='country')"
      ]
     },
     "execution_count": 29,
     "metadata": {},
     "output_type": "execute_result"
    }
   ],
   "source": [
    "netflix['country'].value_counts().index[0:4]"
   ]
  },
  {
   "cell_type": "code",
   "execution_count": 30,
   "id": "4a25e759-d07a-4352-8407-9e9902e49951",
   "metadata": {},
   "outputs": [
    {
     "data": {
      "text/plain": [
       "<Axes: xlabel='country', ylabel='count'>"
      ]
     },
     "execution_count": 30,
     "metadata": {},
     "output_type": "execute_result"
    },
    {
     "data": {
      "image/png": "[encoded data removed]",
      "text/plain": [
       "<Figure size 640x480 with 1 Axes>"
      ]
     },
     "metadata": {},
     "output_type": "display_data"
    }
   ],
   "source": [
    "sns.barplot(y=netflix['country'].value_counts().head(5), x=netflix['country'].value_counts().index[0:5])"
   ]
  },
  {
   "cell_type": "code",
   "execution_count": 32,
   "id": "0958723c-5f1b-4a9b-8238-41d558c1b7d0",
   "metadata": {},
   "outputs": [
    {
     "data": {
      "text/plain": [
       "<Axes: ylabel='count'>"
      ]
     },
     "execution_count": 32,
     "metadata": {},
     "output_type": "execute_result"
    },
    {
     "data": {
      "image/png": "[encoded data removed]",
      "text/plain": [
       "<Figure size 640x480 with 1 Axes>"
      ]
     },
     "metadata": {},
     "output_type": "display_data"
    }
   ],
   "source": [
    "sns.barplot(y=netflix['type'].value_counts(), x=netflix['type'].unique())"
   ]
  },
  {
   "cell_type": "markdown",
   "id": "275f0043-f8e6-4fc3-8b5c-9eabe21bd2c5",
   "metadata": {},
   "source": [
    "## Directors with the most number of movies"
   ]
  },
  {
   "cell_type": "code",
   "execution_count": 34,
   "id": "314ebebf-88ba-4de7-874b-7794a4ea985d",
   "metadata": {},
   "outputs": [
    {
     "data": {
      "text/plain": [
       "director\n",
       "John Doe                  2621\n",
       "Rajiv Chilaka               19\n",
       "Raúl Campos, Jan Suter      18\n",
       "Suhas Kadav                 16\n",
       "Marcus Raboy                16\n",
       "Jay Karas                   14\n",
       "Cathy Garcia-Molina         13\n",
       "Name: count, dtype: int64"
      ]
     },
     "execution_count": 34,
     "metadata": {},
     "output_type": "execute_result"
    }
   ],
   "source": [
    "netflix['director'].value_counts().head(7)"
   ]
  },
  {
   "cell_type": "code",
   "execution_count": 35,
   "id": "8c224425-4b76-4418-a903-d1d17809173b",
   "metadata": {},
   "outputs": [
    {
     "data": {
      "text/plain": [
       "<Axes: xlabel='director', ylabel='count'>"
      ]
     },
     "execution_count": 35,
     "metadata": {},
     "output_type": "execute_result"
    },
    {
     "data": {
      "image/png": "[encoded data removed]",
      "text/plain": [
       "<Figure size 640x480 with 1 Axes>"
      ]
     },
     "metadata": {},
     "output_type": "display_data"
    }
   ],
   "source": [
    "sns.barplot(y=netflix['director'].value_counts().iloc[1:5], x=netflix['director'].value_counts().index[1:5])"
   ]
  },
  {
   "cell_type": "markdown",
   "id": "3d1d4c58-a887-4c3a-b7ef-85cb1fbafddc",
   "metadata": {},
   "source": [
    "## Show `Titles` of all `TV shows` that were only released in `India`"
   ]
  },
  {
   "cell_type": "code",
   "execution_count": 37,
   "id": "2995fb8f-fe11-4179-a095-b911a330bd27",
   "metadata": {},
   "outputs": [
    {
     "data": {
      "text/plain": [
       "array(['Kota Factory', 'Chhota Bheem', 'Dharmakshetra',\n",
       "       'Raja Rasoi Aur Anya Kahaniyan', 'Stories by Rabindranath Tagore',\n",
       "       'The Creative Indians', 'Navarasa', 'Alma Matters',\n",
       "       'Sab Jholmaal Hai', 'Lava Ka Dhaava', 'The Big Day',\n",
       "       'Bombay Begums', 'Zindagi in Short', 'Pitta Kathalu',\n",
       "       'Mighty Little Bheem: Kite Festival', 'Regiment Diaries',\n",
       "       'Paava Kadhaigal', 'Bhaag Beanie Bhaag',\n",
       "       'Fabulous Lives of Bollywood Wives', 'Mismatched',\n",
       "       'Bad Boy Billionaires: India', 'Masaba Masaba', 'Little Singham',\n",
       "       'Betaal', 'ChuChu TV Nursery Rhymes & Kids Songs (Hindi)',\n",
       "       'Hasmukh', 'Akbar\\xa0Birbal', 'Ladies Up', 'She',\n",
       "       'Mighty Little Bheem: Festival of Colors', 'Taj Mahal 1989',\n",
       "       'Jamtara - Sabka Number Ayega', 'Little Things',\n",
       "       'Mighty Little Bheem: Diwali', 'College Romance',\n",
       "       'Engineering Girls', 'Girls Hostel', 'Inmates', 'Bard of Blood',\n",
       "       'Typewriter', 'Leila', 'Delhi Crime',\n",
       "       'Cricket Fever: Mumbai Indians', 'Selection Day', 'GHOUL',\n",
       "       '21 Sarfarosh: Saragarhi 1897', '7 (Seven)', 'Agent Raghav',\n",
       "       'Anjaan: Rural Myths', 'Anjaan: Special Crimes Unit',\n",
       "       'Badalte Rishton Ki Dastaan', 'Bh Se Bhade', 'Bhaage Re Mann',\n",
       "       'Classic Legends', 'Darr Sabko Lagta Hai',\n",
       "       'Devlok with Devdutt Pattanaik', 'Fear Files... Har Mod Pe Darr',\n",
       "       'Gabru: Hip Hop Revolution', 'Gangs of Hassepur', 'Jhansi Ki Rani',\n",
       "       'Khan: No. 1 Crime Hunter', 'Khelti Hai Zindagi Aankh Micholi',\n",
       "       'Khotey Sikkey', 'Maharakshak Devi', 'Maharakshak: Aryan',\n",
       "       'Mahi Way', 'Midnight Misadventures With Mallika Dua', 'Powder',\n",
       "       'Pyaar Tune Kya Kiya', 'Ramayan', 'Razia Sultan', 'Rishta.com',\n",
       "       'Super Bheem', 'Th Eena Meena Deeka Chase Comedy Show',\n",
       "       'Thackeray', 'The Calling', 'The Golden Years with Javed Akhtar',\n",
       "       'The House That Made Me', 'Yeh Meri Family'], dtype=object)"
      ]
     },
     "execution_count": 37,
     "metadata": {},
     "output_type": "execute_result"
    }
   ],
   "source": [
    "netflix[(netflix['country'] == 'India') & (netflix['type'] == 'TV Show')]['title'].unique()"
   ]
  },
  {
   "cell_type": "markdown",
   "id": "04548d79-015f-473d-a7ef-0966fe24b180",
   "metadata": {},
   "source": [
    "## In how many movies Tom Cruise was cast?"
   ]
  },
  {
   "cell_type": "code",
   "execution_count": 39,
   "id": "6ed5bf74-fc05-402d-b67d-2e6b06a657ed",
   "metadata": {},
   "outputs": [
    {
     "data": {
      "text/html": [
       "<div>\n",
       "<style scoped>\n",
       "    .dataframe tbody tr th:only-of-type {\n",
       "        vertical-align: middle;\n",
       "    }\n",
       "\n",
       "    .dataframe tbody tr th {\n",
       "        vertical-align: top;\n",
       "    }\n",
       "\n",
       "    .dataframe thead th {\n",
       "        text-align: right;\n",
       "    }\n",
       "</style>\n",
       "<table border=\"1\" class=\"dataframe\">\n",
       "  <thead>\n",
       "    <tr style=\"text-align: right;\">\n",
       "      <th></th>\n",
       "      <th>show_id</th>\n",
       "      <th>type</th>\n",
       "      <th>title</th>\n",
       "      <th>director</th>\n",
       "      <th>cast</th>\n",
       "      <th>country</th>\n",
       "      <th>date_added</th>\n",
       "      <th>release_year</th>\n",
       "      <th>rating</th>\n",
       "      <th>duration</th>\n",
       "      <th>listed_in</th>\n",
       "      <th>description</th>\n",
       "    </tr>\n",
       "  </thead>\n",
       "  <tbody>\n",
       "    <tr>\n",
       "      <th>341</th>\n",
       "      <td>s342</td>\n",
       "      <td>Movie</td>\n",
       "      <td>Magnolia</td>\n",
       "      <td>Paul Thomas Anderson</td>\n",
       "      <td>John C. Reilly, Philip Baker Hall, Tom Cruise,...</td>\n",
       "      <td>United States</td>\n",
       "      <td>2021-08-01</td>\n",
       "      <td>1999</td>\n",
       "      <td>R</td>\n",
       "      <td>189 min</td>\n",
       "      <td>Dramas, Independent Movies</td>\n",
       "      <td>Through chance, history and divine interventio...</td>\n",
       "    </tr>\n",
       "    <tr>\n",
       "      <th>1254</th>\n",
       "      <td>s1255</td>\n",
       "      <td>Movie</td>\n",
       "      <td>Rain Man</td>\n",
       "      <td>Barry Levinson</td>\n",
       "      <td>Dustin Hoffman, Tom Cruise, Valeria Golino, Ge...</td>\n",
       "      <td>United States</td>\n",
       "      <td>2021-03-01</td>\n",
       "      <td>1988</td>\n",
       "      <td>R</td>\n",
       "      <td>134 min</td>\n",
       "      <td>Classic Movies, Dramas</td>\n",
       "      <td>Motivated by money, a selfish workaholic seeki...</td>\n",
       "    </tr>\n",
       "  </tbody>\n",
       "</table>\n",
       "</div>"
      ],
      "text/plain": [
       "     show_id   type     title              director  \\\n",
       "341     s342  Movie  Magnolia  Paul Thomas Anderson   \n",
       "1254   s1255  Movie  Rain Man        Barry Levinson   \n",
       "\n",
       "                                                   cast        country  \\\n",
       "341   John C. Reilly, Philip Baker Hall, Tom Cruise,...  United States   \n",
       "1254  Dustin Hoffman, Tom Cruise, Valeria Golino, Ge...  United States   \n",
       "\n",
       "     date_added  release_year rating duration                   listed_in  \\\n",
       "341  2021-08-01          1999      R  189 min  Dramas, Independent Movies   \n",
       "1254 2021-03-01          1988      R  134 min      Classic Movies, Dramas   \n",
       "\n",
       "                                            description  \n",
       "341   Through chance, history and divine interventio...  \n",
       "1254  Motivated by money, a selfish workaholic seeki...  "
      ]
     },
     "execution_count": 39,
     "metadata": {},
     "output_type": "execute_result"
    }
   ],
   "source": [
    "netflix[netflix['cast'].str.contains('Tom Cruise')]"
   ]
  },
  {
   "cell_type": "markdown",
   "id": "391b5f03-8364-4a7b-9636-c034c68dc648",
   "metadata": {},
   "source": [
    "### Ignore the below block "
   ]
  },
  {
   "cell_type": "code",
   "execution_count": 57,
   "id": "5fddde63-8d69-491f-a0ff-354bda91dd93",
   "metadata": {
    "scrolled": true
   },
   "outputs": [],
   "source": [
    "# Ignore the below code\n",
    "\n",
    "# netflix_2 = netflix.copy()\n",
    "\n",
    "# netflix_2.head(2)\n",
    "\n",
    "# for x in range(len(netflix_2)):\n",
    "#     if (netflix_2['duration'].str.contains('min')):\n",
    "#         a = int(netflix_2['duration'][x][:3].strip())\n",
    "#         if a > 180:\n",
    "#             netflix_2['duration_catg'].append('very high runtime')\n",
    "#         elif (a > 120) & (a <= 180):\n",
    "#             netflix_2['duration_catg'].append('medium-to-high runtime')\n",
    "#         elif (a > 60) & (a <= 120):\n",
    "#             netflix_2['duration_catg'].append('low-to-medium runtime')\n",
    "#         elif (a > 0) & (a <= 60):\n",
    "#             netflix_2['duration_catg'].append('low runtime')"
   ]
  }
 ],
 "metadata": {
  "kernelspec": {
   "display_name": "Python 3 (ipykernel)",
   "language": "python",
   "name": "python3"
  },
  "language_info": {
   "codemirror_mode": {
    "name": "ipython",
    "version": 3
   },
   "file_extension": ".py",
   "mimetype": "text/x-python",
   "name": "python",
   "nbconvert_exporter": "python",
   "pygments_lexer": "ipython3",
   "version": "3.11.5"
  }
 },
 "nbformat": 4,
 "nbformat_minor": 5
}
