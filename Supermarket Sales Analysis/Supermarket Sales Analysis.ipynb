{
 "cells": [
  {
   "cell_type": "markdown",
   "id": "35435926-a3c3-4138-83d6-75cd0f63e49b",
   "metadata": {},
   "source": [
    "# Importing Libraries"
   ]
  },
  {
   "cell_type": "code",
   "execution_count": 2,
   "id": "a1305655-ec1f-4060-8438-d3917efbdaba",
   "metadata": {},
   "outputs": [],
   "source": [
    "import numpy as np\n",
    "import pandas as pd\n",
    "import matplotlib.pyplot as plt\n",
    "%matplotlib inline\n",
    "import seaborn as sns"
   ]
  },
  {
   "cell_type": "markdown",
   "id": "13813221-e320-446c-b97d-39bbe74c2a77",
   "metadata": {},
   "source": [
    "# Loading the dataset"
   ]
  },
  {
   "cell_type": "code",
   "execution_count": 3,
   "id": "e0848969-733b-4fa8-adaa-354eec3eef1c",
   "metadata": {},
   "outputs": [
    {
     "data": {
      "text/html": [
       "<div>\n",
       "<style scoped>\n",
       "    .dataframe tbody tr th:only-of-type {\n",
       "        vertical-align: middle;\n",
       "    }\n",
       "\n",
       "    .dataframe tbody tr th {\n",
       "        vertical-align: top;\n",
       "    }\n",
       "\n",
       "    .dataframe thead th {\n",
       "        text-align: right;\n",
       "    }\n",
       "</style>\n",
       "<table border=\"1\" class=\"dataframe\">\n",
       "  <thead>\n",
       "    <tr style=\"text-align: right;\">\n",
       "      <th></th>\n",
       "      <th>Order ID</th>\n",
       "      <th>Customer Name</th>\n",
       "      <th>Category</th>\n",
       "      <th>Sub Category</th>\n",
       "      <th>City</th>\n",
       "      <th>Order Date</th>\n",
       "      <th>Region</th>\n",
       "      <th>Sales</th>\n",
       "      <th>Discount</th>\n",
       "      <th>Profit</th>\n",
       "      <th>State</th>\n",
       "    </tr>\n",
       "  </thead>\n",
       "  <tbody>\n",
       "    <tr>\n",
       "      <th>0</th>\n",
       "      <td>OD1</td>\n",
       "      <td>Harish</td>\n",
       "      <td>Oil &amp; Masala</td>\n",
       "      <td>Masalas</td>\n",
       "      <td>Vellore</td>\n",
       "      <td>11-08-2017</td>\n",
       "      <td>North</td>\n",
       "      <td>1254</td>\n",
       "      <td>0.12</td>\n",
       "      <td>401.28</td>\n",
       "      <td>Tamil Nadu</td>\n",
       "    </tr>\n",
       "    <tr>\n",
       "      <th>1</th>\n",
       "      <td>OD2</td>\n",
       "      <td>Sudha</td>\n",
       "      <td>Beverages</td>\n",
       "      <td>Health Drinks</td>\n",
       "      <td>Krishnagiri</td>\n",
       "      <td>11-08-2017</td>\n",
       "      <td>South</td>\n",
       "      <td>749</td>\n",
       "      <td>0.18</td>\n",
       "      <td>149.80</td>\n",
       "      <td>Tamil Nadu</td>\n",
       "    </tr>\n",
       "    <tr>\n",
       "      <th>2</th>\n",
       "      <td>OD3</td>\n",
       "      <td>Hussain</td>\n",
       "      <td>Food Grains</td>\n",
       "      <td>Atta &amp; Flour</td>\n",
       "      <td>Perambalur</td>\n",
       "      <td>06-12-2017</td>\n",
       "      <td>West</td>\n",
       "      <td>2360</td>\n",
       "      <td>0.21</td>\n",
       "      <td>165.20</td>\n",
       "      <td>Tamil Nadu</td>\n",
       "    </tr>\n",
       "  </tbody>\n",
       "</table>\n",
       "</div>"
      ],
      "text/plain": [
       "  Order ID Customer Name      Category   Sub Category         City  \\\n",
       "0      OD1        Harish  Oil & Masala        Masalas      Vellore   \n",
       "1      OD2         Sudha     Beverages  Health Drinks  Krishnagiri   \n",
       "2      OD3       Hussain   Food Grains   Atta & Flour   Perambalur   \n",
       "\n",
       "   Order Date Region  Sales  Discount  Profit       State  \n",
       "0  11-08-2017  North   1254      0.12  401.28  Tamil Nadu  \n",
       "1  11-08-2017  South    749      0.18  149.80  Tamil Nadu  \n",
       "2  06-12-2017   West   2360      0.21  165.20  Tamil Nadu  "
      ]
     },
     "execution_count": 3,
     "metadata": {},
     "output_type": "execute_result"
    }
   ],
   "source": [
    "df = pd.read_csv('supermart Grocery Sales Dataset.csv')\n",
    "df.head(3)"
   ]
  },
  {
   "cell_type": "markdown",
   "id": "81d86297-418c-4e2c-a985-70f1a5a7ebe3",
   "metadata": {},
   "source": [
    "# Understanding the dataset"
   ]
  },
  {
   "cell_type": "code",
   "execution_count": 4,
   "id": "8f47db82-82b8-4431-a880-16721b66b55a",
   "metadata": {},
   "outputs": [
    {
     "data": {
      "text/plain": [
       "109934"
      ]
     },
     "execution_count": 4,
     "metadata": {},
     "output_type": "execute_result"
    }
   ],
   "source": [
    "df.size"
   ]
  },
  {
   "cell_type": "code",
   "execution_count": 5,
   "id": "78be1347-81cd-47b7-a7b9-fd1e717d1129",
   "metadata": {},
   "outputs": [
    {
     "data": {
      "text/plain": [
       "Index(['Order ID', 'Customer Name', 'Category', 'Sub Category', 'City',\n",
       "       'Order Date', 'Region', 'Sales', 'Discount', 'Profit', 'State'],\n",
       "      dtype='object')"
      ]
     },
     "execution_count": 5,
     "metadata": {},
     "output_type": "execute_result"
    }
   ],
   "source": [
    "df.columns"
   ]
  },
  {
   "cell_type": "code",
   "execution_count": 6,
   "id": "df6ba4c2-4352-4879-98e4-28d3a4c657cf",
   "metadata": {},
   "outputs": [
    {
     "name": "stdout",
     "output_type": "stream",
     "text": [
      "<class 'pandas.core.frame.DataFrame'>\n",
      "RangeIndex: 9994 entries, 0 to 9993\n",
      "Data columns (total 11 columns):\n",
      " #   Column         Non-Null Count  Dtype  \n",
      "---  ------         --------------  -----  \n",
      " 0   Order ID       9994 non-null   object \n",
      " 1   Customer Name  9994 non-null   object \n",
      " 2   Category       9994 non-null   object \n",
      " 3   Sub Category   9994 non-null   object \n",
      " 4   City           9994 non-null   object \n",
      " 5   Order Date     9994 non-null   object \n",
      " 6   Region         9994 non-null   object \n",
      " 7   Sales          9994 non-null   int64  \n",
      " 8   Discount       9994 non-null   float64\n",
      " 9   Profit         9994 non-null   float64\n",
      " 10  State          9994 non-null   object \n",
      "dtypes: float64(2), int64(1), object(8)\n",
      "memory usage: 859.0+ KB\n"
     ]
    }
   ],
   "source": [
    "df.info()"
   ]
  },
  {
   "cell_type": "code",
   "execution_count": 7,
   "id": "73b0e7b0-6b39-4d78-9876-f5b6d2dce0d3",
   "metadata": {},
   "outputs": [
    {
     "data": {
      "text/html": [
       "<div>\n",
       "<style scoped>\n",
       "    .dataframe tbody tr th:only-of-type {\n",
       "        vertical-align: middle;\n",
       "    }\n",
       "\n",
       "    .dataframe tbody tr th {\n",
       "        vertical-align: top;\n",
       "    }\n",
       "\n",
       "    .dataframe thead th {\n",
       "        text-align: right;\n",
       "    }\n",
       "</style>\n",
       "<table border=\"1\" class=\"dataframe\">\n",
       "  <thead>\n",
       "    <tr style=\"text-align: right;\">\n",
       "      <th></th>\n",
       "      <th>count</th>\n",
       "      <th>mean</th>\n",
       "      <th>std</th>\n",
       "      <th>min</th>\n",
       "      <th>25%</th>\n",
       "      <th>50%</th>\n",
       "      <th>75%</th>\n",
       "      <th>max</th>\n",
       "    </tr>\n",
       "  </thead>\n",
       "  <tbody>\n",
       "    <tr>\n",
       "      <th>Sales</th>\n",
       "      <td>9994.0</td>\n",
       "      <td>1496.596158</td>\n",
       "      <td>577.559036</td>\n",
       "      <td>500.00</td>\n",
       "      <td>1000.0000</td>\n",
       "      <td>1498.00</td>\n",
       "      <td>1994.7500</td>\n",
       "      <td>2500.00</td>\n",
       "    </tr>\n",
       "    <tr>\n",
       "      <th>Discount</th>\n",
       "      <td>9994.0</td>\n",
       "      <td>0.226817</td>\n",
       "      <td>0.074636</td>\n",
       "      <td>0.10</td>\n",
       "      <td>0.1600</td>\n",
       "      <td>0.23</td>\n",
       "      <td>0.2900</td>\n",
       "      <td>0.35</td>\n",
       "    </tr>\n",
       "    <tr>\n",
       "      <th>Profit</th>\n",
       "      <td>9994.0</td>\n",
       "      <td>374.937082</td>\n",
       "      <td>239.932881</td>\n",
       "      <td>25.25</td>\n",
       "      <td>180.0225</td>\n",
       "      <td>320.78</td>\n",
       "      <td>525.6275</td>\n",
       "      <td>1120.95</td>\n",
       "    </tr>\n",
       "  </tbody>\n",
       "</table>\n",
       "</div>"
      ],
      "text/plain": [
       "           count         mean         std     min        25%      50%  \\\n",
       "Sales     9994.0  1496.596158  577.559036  500.00  1000.0000  1498.00   \n",
       "Discount  9994.0     0.226817    0.074636    0.10     0.1600     0.23   \n",
       "Profit    9994.0   374.937082  239.932881   25.25   180.0225   320.78   \n",
       "\n",
       "                75%      max  \n",
       "Sales     1994.7500  2500.00  \n",
       "Discount     0.2900     0.35  \n",
       "Profit     525.6275  1120.95  "
      ]
     },
     "execution_count": 7,
     "metadata": {},
     "output_type": "execute_result"
    }
   ],
   "source": [
    "df.describe().T"
   ]
  },
  {
   "cell_type": "code",
   "execution_count": 8,
   "id": "7fa7472c-fd4c-4d2a-9d1c-daaf7a0bc5ca",
   "metadata": {},
   "outputs": [
    {
     "data": {
      "text/html": [
       "<div>\n",
       "<style scoped>\n",
       "    .dataframe tbody tr th:only-of-type {\n",
       "        vertical-align: middle;\n",
       "    }\n",
       "\n",
       "    .dataframe tbody tr th {\n",
       "        vertical-align: top;\n",
       "    }\n",
       "\n",
       "    .dataframe thead th {\n",
       "        text-align: right;\n",
       "    }\n",
       "</style>\n",
       "<table border=\"1\" class=\"dataframe\">\n",
       "  <thead>\n",
       "    <tr style=\"text-align: right;\">\n",
       "      <th></th>\n",
       "      <th>Order ID</th>\n",
       "      <th>Customer Name</th>\n",
       "      <th>Category</th>\n",
       "      <th>Sub Category</th>\n",
       "      <th>City</th>\n",
       "      <th>Order Date</th>\n",
       "      <th>Region</th>\n",
       "      <th>State</th>\n",
       "    </tr>\n",
       "  </thead>\n",
       "  <tbody>\n",
       "    <tr>\n",
       "      <th>count</th>\n",
       "      <td>9994</td>\n",
       "      <td>9994</td>\n",
       "      <td>9994</td>\n",
       "      <td>9994</td>\n",
       "      <td>9994</td>\n",
       "      <td>9994</td>\n",
       "      <td>9994</td>\n",
       "      <td>9994</td>\n",
       "    </tr>\n",
       "    <tr>\n",
       "      <th>unique</th>\n",
       "      <td>9994</td>\n",
       "      <td>50</td>\n",
       "      <td>7</td>\n",
       "      <td>23</td>\n",
       "      <td>24</td>\n",
       "      <td>1236</td>\n",
       "      <td>5</td>\n",
       "      <td>1</td>\n",
       "    </tr>\n",
       "    <tr>\n",
       "      <th>top</th>\n",
       "      <td>OD1</td>\n",
       "      <td>Amrish</td>\n",
       "      <td>Snacks</td>\n",
       "      <td>Health Drinks</td>\n",
       "      <td>Kanyakumari</td>\n",
       "      <td>09-05-2017</td>\n",
       "      <td>West</td>\n",
       "      <td>Tamil Nadu</td>\n",
       "    </tr>\n",
       "    <tr>\n",
       "      <th>freq</th>\n",
       "      <td>1</td>\n",
       "      <td>227</td>\n",
       "      <td>1514</td>\n",
       "      <td>719</td>\n",
       "      <td>459</td>\n",
       "      <td>38</td>\n",
       "      <td>3203</td>\n",
       "      <td>9994</td>\n",
       "    </tr>\n",
       "  </tbody>\n",
       "</table>\n",
       "</div>"
      ],
      "text/plain": [
       "       Order ID Customer Name Category   Sub Category         City  \\\n",
       "count      9994          9994     9994           9994         9994   \n",
       "unique     9994            50        7             23           24   \n",
       "top         OD1        Amrish   Snacks  Health Drinks  Kanyakumari   \n",
       "freq          1           227     1514            719          459   \n",
       "\n",
       "        Order Date Region       State  \n",
       "count         9994   9994        9994  \n",
       "unique        1236      5           1  \n",
       "top     09-05-2017   West  Tamil Nadu  \n",
       "freq            38   3203        9994  "
      ]
     },
     "execution_count": 8,
     "metadata": {},
     "output_type": "execute_result"
    }
   ],
   "source": [
    "df.describe(include='object')"
   ]
  },
  {
   "cell_type": "code",
   "execution_count": 9,
   "id": "a59d1724-14cc-4207-b49c-0a2ed46a7d00",
   "metadata": {},
   "outputs": [
    {
     "name": "stdout",
     "output_type": "stream",
     "text": [
      "Order ID\n",
      "['OD1' 'OD2' 'OD3' ... 'OD9992' 'OD9993' 'OD9994']\n",
      "--------------------------------------------------\n",
      "Customer Name\n",
      "['Harish' 'Sudha' 'Hussain' 'Jackson' 'Ridhesh' 'Adavan' 'Jonas' 'Hafiz'\n",
      " 'Krithika' 'Ganesh' 'Yadav' 'Sharon' 'Peer' 'Sundar' 'Ramesh' 'Alan'\n",
      " 'Arutra' 'Haseena' 'Verma' 'Muneer' 'Veronica' 'Shah' 'Mathew' 'Akash'\n",
      " 'Anu' 'Sabeela' 'James' 'Willams' 'Malik' 'Amrish' 'Vince' 'Suresh'\n",
      " 'Esther' 'Yusuf' 'Komal' 'Veena' 'Shree' 'Roshan' 'Sudeep' 'Vinne'\n",
      " 'Vidya' 'Arvind' 'Kumar' 'Amy' 'Ravi' 'Sheeba' 'Ram' 'Rumaiza' 'Aditi'\n",
      " 'Surya']\n",
      "--------------------------------------------------\n",
      "Category\n",
      "['Oil & Masala' 'Beverages' 'Food Grains' 'Fruits & Veggies' 'Bakery'\n",
      " 'Snacks' 'Eggs, Meat & Fish']\n",
      "--------------------------------------------------\n",
      "Sub Category\n",
      "['Masalas' 'Health Drinks' 'Atta & Flour' 'Fresh Vegetables'\n",
      " 'Organic Staples' 'Fresh Fruits' 'Biscuits' 'Cakes' 'Chocolates' 'Eggs'\n",
      " 'Cookies' 'Chicken' 'Edible Oil & Ghee' 'Mutton' 'Soft Drinks'\n",
      " 'Dals & Pulses' 'Organic Vegetables' 'Noodles' 'Organic Fruits' 'Fish'\n",
      " 'Spices' 'Rice' 'Breads & Buns']\n",
      "--------------------------------------------------\n",
      "City\n",
      "['Vellore' 'Krishnagiri' 'Perambalur' 'Dharmapuri' 'Ooty' 'Trichy'\n",
      " 'Ramanadhapuram' 'Tirunelveli' 'Chennai' 'Karur' 'Namakkal' 'Dindigul'\n",
      " 'Kanyakumari' 'Bodi' 'Tenkasi' 'Viluppuram' 'Madurai' 'Salem' 'Cumbum'\n",
      " 'Nagercoil' 'Pudukottai' 'Theni' 'Coimbatore' 'Virudhunagar']\n",
      "--------------------------------------------------\n",
      "Order Date\n",
      "['11-08-2017' '06-12-2017' '10-11-2016' ... '3/16/2015' '8/29/2016'\n",
      " '04-06-2017']\n",
      "--------------------------------------------------\n",
      "Region\n",
      "['North' 'South' 'West' 'Central' 'East']\n",
      "--------------------------------------------------\n",
      "State\n",
      "['Tamil Nadu']\n",
      "--------------------------------------------------\n"
     ]
    }
   ],
   "source": [
    "for col in df.describe(include='object'):\n",
    "    print(col)\n",
    "    print(df[col].unique())\n",
    "    print('-'*50)"
   ]
  },
  {
   "cell_type": "code",
   "execution_count": 10,
   "id": "9aab1873-92b4-4da6-9a54-c331d9dfd7e3",
   "metadata": {},
   "outputs": [
    {
     "data": {
      "text/plain": [
       "Order ID         0\n",
       "Customer Name    0\n",
       "Category         0\n",
       "Sub Category     0\n",
       "City             0\n",
       "Order Date       0\n",
       "Region           0\n",
       "Sales            0\n",
       "Discount         0\n",
       "Profit           0\n",
       "State            0\n",
       "dtype: int64"
      ]
     },
     "execution_count": 10,
     "metadata": {},
     "output_type": "execute_result"
    }
   ],
   "source": [
    "df.isnull().sum()"
   ]
  },
  {
   "cell_type": "code",
   "execution_count": 11,
   "id": "ae1d3d59-ce83-4212-bc2b-93a37e647353",
   "metadata": {},
   "outputs": [
    {
     "data": {
      "text/html": [
       "<div>\n",
       "<style scoped>\n",
       "    .dataframe tbody tr th:only-of-type {\n",
       "        vertical-align: middle;\n",
       "    }\n",
       "\n",
       "    .dataframe tbody tr th {\n",
       "        vertical-align: top;\n",
       "    }\n",
       "\n",
       "    .dataframe thead th {\n",
       "        text-align: right;\n",
       "    }\n",
       "</style>\n",
       "<table border=\"1\" class=\"dataframe\">\n",
       "  <thead>\n",
       "    <tr style=\"text-align: right;\">\n",
       "      <th></th>\n",
       "      <th>Order ID</th>\n",
       "      <th>Customer Name</th>\n",
       "      <th>Category</th>\n",
       "      <th>Sub Category</th>\n",
       "      <th>City</th>\n",
       "      <th>Order Date</th>\n",
       "      <th>Region</th>\n",
       "      <th>Sales</th>\n",
       "      <th>Discount</th>\n",
       "      <th>Profit</th>\n",
       "      <th>State</th>\n",
       "    </tr>\n",
       "  </thead>\n",
       "  <tbody>\n",
       "  </tbody>\n",
       "</table>\n",
       "</div>"
      ],
      "text/plain": [
       "Empty DataFrame\n",
       "Columns: [Order ID, Customer Name, Category, Sub Category, City, Order Date, Region, Sales, Discount, Profit, State]\n",
       "Index: []"
      ]
     },
     "execution_count": 11,
     "metadata": {},
     "output_type": "execute_result"
    }
   ],
   "source": [
    "df[df.duplicated()]"
   ]
  },
  {
   "cell_type": "markdown",
   "id": "7f5d823d-a695-49d3-b8e6-4a6a394f627a",
   "metadata": {},
   "source": [
    "## Observations \n",
    "1. We can drop State column as it only contains single value repeated.\n",
    "2. We have to correct datatype of `Order Date` column.\n",
    "3. We can drop the `Order ID` column as it is NOT useful for our analysis.\n",
    "4. We have to extract month and year data from `Order Date` column"
   ]
  },
  {
   "cell_type": "markdown",
   "id": "0baff517-9af8-456a-81d6-04a728a123eb",
   "metadata": {},
   "source": [
    "# EDA and Data Cleaning"
   ]
  },
  {
   "cell_type": "code",
   "execution_count": 14,
   "id": "418d3d9e-1b6c-41fc-98a5-ff3a06dee357",
   "metadata": {},
   "outputs": [],
   "source": [
    "df.drop(columns=['Order ID', 'State'], axis=1, inplace=True)"
   ]
  },
  {
   "cell_type": "code",
   "execution_count": 15,
   "id": "58a8894d-9577-4f5e-b5a1-977ab87f6b59",
   "metadata": {},
   "outputs": [
    {
     "data": {
      "text/html": [
       "<div>\n",
       "<style scoped>\n",
       "    .dataframe tbody tr th:only-of-type {\n",
       "        vertical-align: middle;\n",
       "    }\n",
       "\n",
       "    .dataframe tbody tr th {\n",
       "        vertical-align: top;\n",
       "    }\n",
       "\n",
       "    .dataframe thead th {\n",
       "        text-align: right;\n",
       "    }\n",
       "</style>\n",
       "<table border=\"1\" class=\"dataframe\">\n",
       "  <thead>\n",
       "    <tr style=\"text-align: right;\">\n",
       "      <th></th>\n",
       "      <th>Customer Name</th>\n",
       "      <th>Category</th>\n",
       "      <th>Sub Category</th>\n",
       "      <th>City</th>\n",
       "      <th>Order Date</th>\n",
       "      <th>Region</th>\n",
       "      <th>Sales</th>\n",
       "      <th>Discount</th>\n",
       "      <th>Profit</th>\n",
       "    </tr>\n",
       "  </thead>\n",
       "  <tbody>\n",
       "    <tr>\n",
       "      <th>0</th>\n",
       "      <td>Harish</td>\n",
       "      <td>Oil &amp; Masala</td>\n",
       "      <td>Masalas</td>\n",
       "      <td>Vellore</td>\n",
       "      <td>11-08-2017</td>\n",
       "      <td>North</td>\n",
       "      <td>1254</td>\n",
       "      <td>0.12</td>\n",
       "      <td>401.28</td>\n",
       "    </tr>\n",
       "    <tr>\n",
       "      <th>1</th>\n",
       "      <td>Sudha</td>\n",
       "      <td>Beverages</td>\n",
       "      <td>Health Drinks</td>\n",
       "      <td>Krishnagiri</td>\n",
       "      <td>11-08-2017</td>\n",
       "      <td>South</td>\n",
       "      <td>749</td>\n",
       "      <td>0.18</td>\n",
       "      <td>149.80</td>\n",
       "    </tr>\n",
       "  </tbody>\n",
       "</table>\n",
       "</div>"
      ],
      "text/plain": [
       "  Customer Name      Category   Sub Category         City  Order Date Region  \\\n",
       "0        Harish  Oil & Masala        Masalas      Vellore  11-08-2017  North   \n",
       "1         Sudha     Beverages  Health Drinks  Krishnagiri  11-08-2017  South   \n",
       "\n",
       "   Sales  Discount  Profit  \n",
       "0   1254      0.12  401.28  \n",
       "1    749      0.18  149.80  "
      ]
     },
     "execution_count": 15,
     "metadata": {},
     "output_type": "execute_result"
    }
   ],
   "source": [
    "df.head(2)"
   ]
  },
  {
   "cell_type": "code",
   "execution_count": 16,
   "id": "f7559cf4-5dd5-4ccb-b1e7-f4b476d350db",
   "metadata": {},
   "outputs": [
    {
     "name": "stdout",
     "output_type": "stream",
     "text": [
      "<class 'pandas.core.frame.DataFrame'>\n",
      "RangeIndex: 9994 entries, 0 to 9993\n",
      "Data columns (total 9 columns):\n",
      " #   Column         Non-Null Count  Dtype         \n",
      "---  ------         --------------  -----         \n",
      " 0   Customer Name  9994 non-null   object        \n",
      " 1   Category       9994 non-null   object        \n",
      " 2   Sub Category   9994 non-null   object        \n",
      " 3   City           9994 non-null   object        \n",
      " 4   Order Date     9994 non-null   datetime64[ns]\n",
      " 5   Region         9994 non-null   object        \n",
      " 6   Sales          9994 non-null   int64         \n",
      " 7   Discount       9994 non-null   float64       \n",
      " 8   Profit         9994 non-null   float64       \n",
      "dtypes: datetime64[ns](1), float64(2), int64(1), object(5)\n",
      "memory usage: 702.8+ KB\n"
     ]
    }
   ],
   "source": [
    "df['Order Date'] = pd.to_datetime(df['Order Date'], format='mixed')\n",
    "df.info()"
   ]
  },
  {
   "cell_type": "code",
   "execution_count": 17,
   "id": "a943f7fe-aa32-4a88-a4f6-5007d1922a3f",
   "metadata": {},
   "outputs": [
    {
     "data": {
      "text/html": [
       "<div>\n",
       "<style scoped>\n",
       "    .dataframe tbody tr th:only-of-type {\n",
       "        vertical-align: middle;\n",
       "    }\n",
       "\n",
       "    .dataframe tbody tr th {\n",
       "        vertical-align: top;\n",
       "    }\n",
       "\n",
       "    .dataframe thead th {\n",
       "        text-align: right;\n",
       "    }\n",
       "</style>\n",
       "<table border=\"1\" class=\"dataframe\">\n",
       "  <thead>\n",
       "    <tr style=\"text-align: right;\">\n",
       "      <th></th>\n",
       "      <th>Customer Name</th>\n",
       "      <th>Category</th>\n",
       "      <th>Sub Category</th>\n",
       "      <th>City</th>\n",
       "      <th>Order Date</th>\n",
       "      <th>Region</th>\n",
       "      <th>Sales</th>\n",
       "      <th>Discount</th>\n",
       "      <th>Profit</th>\n",
       "      <th>Order Month</th>\n",
       "      <th>Order Year</th>\n",
       "    </tr>\n",
       "  </thead>\n",
       "  <tbody>\n",
       "    <tr>\n",
       "      <th>6310</th>\n",
       "      <td>Muneer</td>\n",
       "      <td>Eggs, Meat &amp; Fish</td>\n",
       "      <td>Mutton</td>\n",
       "      <td>Pudukottai</td>\n",
       "      <td>2016-11-15</td>\n",
       "      <td>East</td>\n",
       "      <td>1853</td>\n",
       "      <td>0.15</td>\n",
       "      <td>129.71</td>\n",
       "      <td>11</td>\n",
       "      <td>2016</td>\n",
       "    </tr>\n",
       "    <tr>\n",
       "      <th>1400</th>\n",
       "      <td>Peer</td>\n",
       "      <td>Food Grains</td>\n",
       "      <td>Atta &amp; Flour</td>\n",
       "      <td>Coimbatore</td>\n",
       "      <td>2015-07-22</td>\n",
       "      <td>West</td>\n",
       "      <td>1707</td>\n",
       "      <td>0.32</td>\n",
       "      <td>238.98</td>\n",
       "      <td>7</td>\n",
       "      <td>2015</td>\n",
       "    </tr>\n",
       "  </tbody>\n",
       "</table>\n",
       "</div>"
      ],
      "text/plain": [
       "     Customer Name           Category  Sub Category        City Order Date  \\\n",
       "6310        Muneer  Eggs, Meat & Fish        Mutton  Pudukottai 2016-11-15   \n",
       "1400          Peer        Food Grains  Atta & Flour  Coimbatore 2015-07-22   \n",
       "\n",
       "     Region  Sales  Discount  Profit  Order Month  Order Year  \n",
       "6310   East   1853      0.15  129.71           11        2016  \n",
       "1400   West   1707      0.32  238.98            7        2015  "
      ]
     },
     "execution_count": 17,
     "metadata": {},
     "output_type": "execute_result"
    }
   ],
   "source": [
    "df['Order Month'] = df['Order Date'].dt.month\n",
    "df['Order Year'] = df['Order Date'].dt.year\n",
    "df.sample(2)"
   ]
  },
  {
   "cell_type": "code",
   "execution_count": 18,
   "id": "cbe9d570-0173-47e0-bf15-3c13b742ca70",
   "metadata": {},
   "outputs": [
    {
     "data": {
      "text/plain": [
       "Region\n",
       "West       3203\n",
       "East       2848\n",
       "Central    2323\n",
       "South      1619\n",
       "North         1\n",
       "Name: count, dtype: int64"
      ]
     },
     "execution_count": 18,
     "metadata": {},
     "output_type": "execute_result"
    }
   ],
   "source": [
    "df['Region'].value_counts()"
   ]
  },
  {
   "cell_type": "markdown",
   "id": "71de52f9-f10a-4b4f-a191-18330764a904",
   "metadata": {},
   "source": [
    "#### Since North is present only once in the whole dataset as a categorical column, we can remove it."
   ]
  },
  {
   "cell_type": "code",
   "execution_count": 20,
   "id": "3ed4d037-5c99-4e93-b83b-2d59b574089b",
   "metadata": {},
   "outputs": [],
   "source": [
    "df = df[df['Region'] != 'North']"
   ]
  },
  {
   "cell_type": "code",
   "execution_count": 21,
   "id": "10c46a40-e91c-4d62-a0c5-7a3ea96f5ac2",
   "metadata": {},
   "outputs": [
    {
     "data": {
      "text/plain": [
       "Region\n",
       "West       3203\n",
       "East       2848\n",
       "Central    2323\n",
       "South      1619\n",
       "Name: count, dtype: int64"
      ]
     },
     "execution_count": 21,
     "metadata": {},
     "output_type": "execute_result"
    }
   ],
   "source": [
    "df['Region'].value_counts()"
   ]
  },
  {
   "cell_type": "markdown",
   "id": "71c87f9f-f578-45c6-a422-a98fa03ecb34",
   "metadata": {},
   "source": [
    "# Data Visualizations"
   ]
  },
  {
   "cell_type": "markdown",
   "id": "f1f3c165-76f9-4218-a212-b1b64dde002b",
   "metadata": {},
   "source": [
    "## Profit by Region"
   ]
  },
  {
   "cell_type": "code",
   "execution_count": 23,
   "id": "4739e14e-17ce-4478-889b-a1d2ab63292e",
   "metadata": {},
   "outputs": [
    {
     "data": {
      "text/plain": [
       "Region\n",
       "Central     8.568068\n",
       "East       10.743456\n",
       "South       6.235629\n",
       "West       11.920046\n",
       "Name: Profit, dtype: float64"
      ]
     },
     "execution_count": 23,
     "metadata": {},
     "output_type": "execute_result"
    }
   ],
   "source": [
    "profit_by_region = df['Profit'].groupby(df['Region']).sum()/10**5\n",
    "profit_by_region"
   ]
  },
  {
   "cell_type": "code",
   "execution_count": 24,
   "id": "ec1e60ec-1085-428e-875f-e347f99d8ab6",
   "metadata": {},
   "outputs": [
    {
     "data": {
      "image/png": "[encoded data removed]",
      "text/plain": [
       "<Figure size 600x400 with 1 Axes>"
      ]
     },
     "metadata": {},
     "output_type": "display_data"
    }
   ],
   "source": [
    "plt.figure(figsize=(6,4))\n",
    "sns.barplot(x=profit_by_region.index, y=profit_by_region.values)\n",
    "plt.xlabel('~ Region ~')\n",
    "plt.ylabel('Total Profit in Lakhs INR')\n",
    "plt.title('Supermarket Profit by Region')\n",
    "plt.show()"
   ]
  },
  {
   "cell_type": "markdown",
   "id": "57b0f914-8e6f-49d8-a26c-b8210dcee7c6",
   "metadata": {},
   "source": [
    "### Conclusion \n",
    "    West Region is most profitable"
   ]
  },
  {
   "cell_type": "markdown",
   "id": "77a9ced8-522d-4d81-bae5-40f9d698bc93",
   "metadata": {},
   "source": [
    "## Profit by Category "
   ]
  },
  {
   "cell_type": "code",
   "execution_count": 26,
   "id": "1a3ef5e3-723d-4366-bf25-c18747f6cac0",
   "metadata": {},
   "outputs": [
    {
     "data": {
      "text/plain": [
       "Category\n",
       "Bakery               5.285211\n",
       "Beverages            5.256058\n",
       "Eggs, Meat & Fish    5.673572\n",
       "Food Grains          5.291626\n",
       "Fruits & Veggies     5.304004\n",
       "Oil & Masala         4.974940\n",
       "Snacks               5.681788\n",
       "Name: Profit, dtype: float64"
      ]
     },
     "execution_count": 26,
     "metadata": {},
     "output_type": "execute_result"
    }
   ],
   "source": [
    "profit_by_category = df['Profit'].groupby(df['Category']).sum()/10**5\n",
    "profit_by_category"
   ]
  },
  {
   "cell_type": "code",
   "execution_count": 27,
   "id": "1cf04bf5-bfd9-49bf-81f6-3fca71d50c59",
   "metadata": {},
   "outputs": [
    {
     "data": {
      "image/png": "[encoded data removed]",
      "text/plain": [
       "<Figure size 1100x400 with 1 Axes>"
      ]
     },
     "metadata": {},
     "output_type": "display_data"
    }
   ],
   "source": [
    "plt.figure(figsize=(11,4))\n",
    "sns.barplot(x=profit_by_category.index, y=profit_by_category.values)\n",
    "plt.xlabel('~ Category ~')\n",
    "plt.ylabel('Total Profit in Lakhs INR')\n",
    "plt.title('Supermarket Profit by Category')\n",
    "plt.show()"
   ]
  },
  {
   "cell_type": "markdown",
   "id": "1c925308-355a-4f39-ad2a-c8639a248b42",
   "metadata": {},
   "source": [
    "### Conclusion \n",
    "    `Snacks` and `Eggs, Meat & Fish` are the most profitable categories"
   ]
  },
  {
   "cell_type": "markdown",
   "id": "88c954fb-fcd5-477c-b01f-364a6fbb52a7",
   "metadata": {},
   "source": [
    "## Finding the most loyal customers by analyzing sales volume of each customer"
   ]
  },
  {
   "cell_type": "code",
   "execution_count": 29,
   "id": "cf169b5e-de08-450f-b4a9-6cc9282f83fe",
   "metadata": {},
   "outputs": [
    {
     "data": {
      "text/plain": [
       "Customer Name\n",
       "Krithika    334361\n",
       "Amrish      333351\n",
       "Verma       331665\n",
       "Arutra      325720\n",
       "Vidya       321798\n",
       "Vinne       319565\n",
       "Shah        318588\n",
       "Suresh      315973\n",
       "Adavan      315341\n",
       "Surya       312645\n",
       "Name: Sales, dtype: int64"
      ]
     },
     "execution_count": 29,
     "metadata": {},
     "output_type": "execute_result"
    }
   ],
   "source": [
    "most_loyal_customers = df['Sales'].groupby(df['Customer Name']).sum().sort_values(ascending=False).head(10)\n",
    "most_loyal_customers"
   ]
  },
  {
   "cell_type": "markdown",
   "id": "93de60fd-44b8-47dc-84e7-15795bc9ab0f",
   "metadata": {},
   "source": [
    "### Conclusion -> Most loyal customers are :- \n",
    "    'Krithika', 'Amrish', 'Verma', 'Arutra', 'Vidya', 'Vinne', 'Shah',  'Suresh', 'Adavan', 'Surya''"
   ]
  },
  {
   "cell_type": "markdown",
   "id": "303be9ab-68b5-403f-806e-ea0909697886",
   "metadata": {},
   "source": [
    "## Profit by Month"
   ]
  },
  {
   "cell_type": "code",
   "execution_count": 31,
   "id": "3f4ec4cf-5e10-4483-97e0-4bbcdfa48874",
   "metadata": {},
   "outputs": [
    {
     "data": {
      "text/plain": [
       "Order Month\n",
       "1     1.425185\n",
       "2     1.160822\n",
       "3     2.673473\n",
       "4     2.474770\n",
       "5     2.636434\n",
       "6     2.632962\n",
       "7     2.745946\n",
       "8     2.589121\n",
       "9     5.177886\n",
       "10    3.093769\n",
       "11    5.556468\n",
       "12    5.300364\n",
       "Name: Profit, dtype: float64"
      ]
     },
     "execution_count": 31,
     "metadata": {},
     "output_type": "execute_result"
    }
   ],
   "source": [
    "profit_by_month = df['Profit'].groupby(df['Order Month']).sum()/10**5\n",
    "profit_by_month"
   ]
  },
  {
   "cell_type": "code",
   "execution_count": 32,
   "id": "27c60198-7e54-4743-ad2d-2a17d6da17da",
   "metadata": {},
   "outputs": [
    {
     "data": {
      "image/png": "[encoded data removed]",
      "text/plain": [
       "<Figure size 1100x400 with 1 Axes>"
      ]
     },
     "metadata": {},
     "output_type": "display_data"
    }
   ],
   "source": [
    "plt.figure(figsize=(11,4))\n",
    "sns.barplot(x=profit_by_month.index, y=profit_by_month.values)\n",
    "plt.xlabel('~ Month ~')\n",
    "plt.ylabel('Total Profit in Lakhs INR')\n",
    "plt.title('Supermarket Profit by Month')\n",
    "plt.show()"
   ]
  },
  {
   "cell_type": "markdown",
   "id": "361c7b7e-8fa6-4245-8b8f-3b1c4c0ccc82",
   "metadata": {},
   "source": [
    "### Conclusion\n",
    "    November, December and September (being the festive months) are the most profitable months for the Supermarket"
   ]
  },
  {
   "cell_type": "markdown",
   "id": "e7d8f900-7cea-4cea-92f6-85144549f1b7",
   "metadata": {},
   "source": [
    "## Sales by Year"
   ]
  },
  {
   "cell_type": "code",
   "execution_count": 34,
   "id": "e4221b7f-a0c3-4a89-a84f-b2789ed1148a",
   "metadata": {},
   "outputs": [
    {
     "data": {
      "text/plain": [
       "Order Year\n",
       "2015    29.75599\n",
       "2016    31.31959\n",
       "2017    38.70658\n",
       "2018    49.77512\n",
       "Name: Sales, dtype: float64"
      ]
     },
     "execution_count": 34,
     "metadata": {},
     "output_type": "execute_result"
    }
   ],
   "source": [
    "sales_by_year = df['Sales'].groupby(df['Order Year']).sum()/10**5\n",
    "sales_by_year"
   ]
  },
  {
   "cell_type": "code",
   "execution_count": 35,
   "id": "07e73428-4517-41f8-836b-684a199f35dc",
   "metadata": {},
   "outputs": [
    {
     "data": {
      "image/png": "[encoded data removed]",
      "text/plain": [
       "<Figure size 1100x400 with 1 Axes>"
      ]
     },
     "metadata": {},
     "output_type": "display_data"
    }
   ],
   "source": [
    "plt.figure(figsize=(11,4))\n",
    "sns.barplot(x=sales_by_year.index, y=sales_by_year.values)\n",
    "plt.xlabel('~ Year ~')\n",
    "plt.ylabel('Total Sales in Lakhs INR')\n",
    "plt.title('Supermarket Sales by Year')\n",
    "plt.show()"
   ]
  },
  {
   "cell_type": "markdown",
   "id": "8cad0e69-f40c-4de9-88a8-bdd437953055",
   "metadata": {},
   "source": [
    "### Conclusion \n",
    "    Supermarket is observing a steady RISE in sales"
   ]
  },
  {
   "cell_type": "code",
   "execution_count": null,
   "id": "f5ba26fd-5650-4eba-94c6-618623c2fce6",
   "metadata": {},
   "outputs": [],
   "source": []
  }
 ],
 "metadata": {
  "kernelspec": {
   "display_name": "Python 3 (ipykernel)",
   "language": "python",
   "name": "python3"
  },
  "language_info": {
   "codemirror_mode": {
    "name": "ipython",
    "version": 3
   },
   "file_extension": ".py",
   "mimetype": "text/x-python",
   "name": "python",
   "nbconvert_exporter": "python",
   "pygments_lexer": "ipython3",
   "version": "3.11.5"
  }
 },
 "nbformat": 4,
 "nbformat_minor": 5
}
